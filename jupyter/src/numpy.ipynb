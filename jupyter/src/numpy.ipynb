{
 "cells": [
  {
   "cell_type": "markdown",
   "id": "5a8023ba-ecb7-4f0a-a049-b34c9c5bc382",
   "metadata": {},
   "source": [
    "# Section 1\n",
    "## Linear Algebra\n",
    "\n",
    "- lista"
   ]
  },
  {
   "cell_type": "code",
   "execution_count": 2,
   "id": "floppy-onion",
   "metadata": {},
   "outputs": [],
   "source": [
    "import numpy as np"
   ]
  },
  {
   "cell_type": "markdown",
   "id": "blond-census",
   "metadata": {},
   "source": [
    "### Scalars and Tensors"
   ]
  },
  {
   "cell_type": "code",
   "execution_count": 3,
   "id": "enhanced-kazakhstan",
   "metadata": {},
   "outputs": [],
   "source": [
    "Scalar = 1"
   ]
  },
  {
   "cell_type": "code",
   "execution_count": 4,
   "id": "imposed-cement",
   "metadata": {},
   "outputs": [],
   "source": [
    "Vector = np.array([1, 2])"
   ]
  },
  {
   "cell_type": "code",
   "execution_count": 5,
   "id": "reverse-category",
   "metadata": {},
   "outputs": [],
   "source": [
    "Matrix = np.array([ [1, 2], [3, 4] ])"
   ]
  },
  {
   "cell_type": "code",
   "execution_count": 6,
   "id": "banned-resistance",
   "metadata": {},
   "outputs": [],
   "source": [
    "Tensor = np.array([ [ [1, 2], [3, 2] ], [ [1, 7], [5, 4] ] ])"
   ]
  },
  {
   "cell_type": "markdown",
   "id": "injured-marks",
   "metadata": {},
   "source": [
    "### Matrix Operations"
   ]
  },
  {
   "cell_type": "markdown",
   "id": "metallic-communications",
   "metadata": {},
   "source": [
    "Addition"
   ]
  },
  {
   "cell_type": "code",
   "execution_count": 7,
   "id": "editorial-promise",
   "metadata": {},
   "outputs": [
    {
     "data": {
      "text/plain": [
       "array([[ 7,  8],\n",
       "       [ 5, -3]])"
      ]
     },
     "execution_count": 7,
     "metadata": {},
     "output_type": "execute_result"
    }
   ],
   "source": [
    "np.array([[3,8],[4,6]]) + np.array([[4,0],[1,-9]])"
   ]
  },
  {
   "cell_type": "markdown",
   "id": "pretty-tenant",
   "metadata": {},
   "source": [
    "Substraction"
   ]
  },
  {
   "cell_type": "code",
   "execution_count": 8,
   "id": "balanced-mitchell",
   "metadata": {},
   "outputs": [
    {
     "data": {
      "text/plain": [
       "array([[-1,  8],\n",
       "       [ 3, 15]])"
      ]
     },
     "execution_count": 8,
     "metadata": {},
     "output_type": "execute_result"
    }
   ],
   "source": [
    "np.array([[3,8],[4,6]]) - np.array([[4,0],[1,-9]])"
   ]
  },
  {
   "cell_type": "markdown",
   "id": "unusual-double",
   "metadata": {},
   "source": [
    "Transpose"
   ]
  },
  {
   "cell_type": "code",
   "execution_count": 9,
   "id": "exclusive-seating",
   "metadata": {},
   "outputs": [
    {
     "data": {
      "text/plain": [
       "array([[ 6,  1],\n",
       "       [ 4, -9],\n",
       "       [24,  8]])"
      ]
     },
     "execution_count": 9,
     "metadata": {},
     "output_type": "execute_result"
    }
   ],
   "source": [
    "np.transpose(np.array([[6,4,24],[1,-9,8]]))"
   ]
  },
  {
   "cell_type": "markdown",
   "id": "compressed-fifteen",
   "metadata": {},
   "source": [
    "Scalar Multiplication"
   ]
  },
  {
   "cell_type": "code",
   "execution_count": 10,
   "id": "athletic-request",
   "metadata": {},
   "outputs": [
    {
     "data": {
      "text/plain": [
       "array([[  8,   0],\n",
       "       [  2, -18]])"
      ]
     },
     "execution_count": 10,
     "metadata": {},
     "output_type": "execute_result"
    }
   ],
   "source": [
    "2 * np.array([[4,0],[1,-9]])"
   ]
  },
  {
   "cell_type": "markdown",
   "id": "matched-palestinian",
   "metadata": {},
   "source": [
    "Elementwise Multiplication (Haddamard product)"
   ]
  },
  {
   "cell_type": "code",
   "execution_count": 11,
   "id": "worse-childhood",
   "metadata": {},
   "outputs": [
    {
     "data": {
      "text/plain": [
       "array([3, 8])"
      ]
     },
     "execution_count": 11,
     "metadata": {},
     "output_type": "execute_result"
    }
   ],
   "source": [
    "np.array([1,2]) * np.array([3,4])"
   ]
  },
  {
   "cell_type": "markdown",
   "id": "surface-animal",
   "metadata": {},
   "source": [
    "Dot Product"
   ]
  },
  {
   "cell_type": "code",
   "execution_count": 12,
   "id": "collective-browse",
   "metadata": {},
   "outputs": [
    {
     "data": {
      "text/plain": [
       "array([[ 20, -72],\n",
       "       [ 22, -54],\n",
       "       [ 46, -54]])"
      ]
     },
     "execution_count": 12,
     "metadata": {},
     "output_type": "execute_result"
    }
   ],
   "source": [
    "A = np.array([[3,8],[4,6],[10,6]])\n",
    "B = np.array([[4,0],[1,-9]])\n",
    "A.dot(B)"
   ]
  },
  {
   "cell_type": "code",
   "execution_count": 13,
   "id": "sacred-routine",
   "metadata": {},
   "outputs": [
    {
     "data": {
      "text/plain": [
       "array([[ 20, -72],\n",
       "       [ 22, -54],\n",
       "       [ 46, -54]])"
      ]
     },
     "execution_count": 13,
     "metadata": {},
     "output_type": "execute_result"
    }
   ],
   "source": [
    "# Using @ notation\n",
    "A@B"
   ]
  },
  {
   "cell_type": "code",
   "execution_count": null,
   "id": "d7d940cd-ce59-42cc-9b93-b5b9458ddc8a",
   "metadata": {},
   "outputs": [],
   "source": []
  },
  {
   "cell_type": "code",
   "execution_count": null,
   "id": "7315c065-4651-40ed-bfbb-9eff35ac26b2",
   "metadata": {},
   "outputs": [],
   "source": []
  }
 ],
 "metadata": {
  "kernelspec": {
   "display_name": "Python 3 (ipykernel)",
   "language": "python",
   "name": "python3"
  },
  "language_info": {
   "codemirror_mode": {
    "name": "ipython",
    "version": 3
   },
   "file_extension": ".py",
   "mimetype": "text/x-python",
   "name": "python",
   "nbconvert_exporter": "python",
   "pygments_lexer": "ipython3",
   "version": "3.9.7"
  }
 },
 "nbformat": 4,
 "nbformat_minor": 5
}
