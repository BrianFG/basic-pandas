{
 "cells": [
  {
   "cell_type": "markdown",
   "id": "concerned-regular",
   "metadata": {},
   "source": [
    "# Pandas "
   ]
  },
  {
   "cell_type": "markdown",
   "id": "jewish-folks",
   "metadata": {},
   "source": [
    "Importing libraries"
   ]
  },
  {
   "cell_type": "code",
   "execution_count": 1,
   "id": "pursuant-texas",
   "metadata": {},
   "outputs": [],
   "source": [
    "import pandas as pd\n",
    "import datetime"
   ]
  },
  {
   "cell_type": "markdown",
   "id": "killing-pointer",
   "metadata": {},
   "source": [
    "## Pandas I/O"
   ]
  },
  {
   "cell_type": "markdown",
   "id": "instructional-belarus",
   "metadata": {},
   "source": [
    "- Reading CSV"
   ]
  },
  {
   "cell_type": "code",
   "execution_count": 2,
   "id": "textile-photography",
   "metadata": {},
   "outputs": [],
   "source": [
    "salaries_df = pd.read_csv('./salaries.csv')"
   ]
  },
  {
   "cell_type": "code",
   "execution_count": 3,
   "id": "62e74b42-9603-412a-aa48-0beb03259f7c",
   "metadata": {},
   "outputs": [
    {
     "data": {
      "text/html": [
       "<div>\n",
       "<style scoped>\n",
       "    .dataframe tbody tr th:only-of-type {\n",
       "        vertical-align: middle;\n",
       "    }\n",
       "\n",
       "    .dataframe tbody tr th {\n",
       "        vertical-align: top;\n",
       "    }\n",
       "\n",
       "    .dataframe thead th {\n",
       "        text-align: right;\n",
       "    }\n",
       "</style>\n",
       "<table border=\"1\" class=\"dataframe\">\n",
       "  <thead>\n",
       "    <tr style=\"text-align: right;\">\n",
       "      <th></th>\n",
       "      <th>emp_no</th>\n",
       "      <th>salary</th>\n",
       "      <th>from_date</th>\n",
       "      <th>to_date</th>\n",
       "      <th>birth_date</th>\n",
       "      <th>first_name</th>\n",
       "      <th>last_name</th>\n",
       "      <th>gender</th>\n",
       "      <th>hire_date</th>\n",
       "    </tr>\n",
       "  </thead>\n",
       "  <tbody>\n",
       "    <tr>\n",
       "      <th>0</th>\n",
       "      <td>10001</td>\n",
       "      <td>60117</td>\n",
       "      <td>1986-06-26</td>\n",
       "      <td>1987-06-26</td>\n",
       "      <td>1953-09-02</td>\n",
       "      <td>Georgi</td>\n",
       "      <td>Facello</td>\n",
       "      <td>M</td>\n",
       "      <td>1986-06-26</td>\n",
       "    </tr>\n",
       "    <tr>\n",
       "      <th>1</th>\n",
       "      <td>10001</td>\n",
       "      <td>62102</td>\n",
       "      <td>1987-06-26</td>\n",
       "      <td>1988-06-25</td>\n",
       "      <td>1953-09-02</td>\n",
       "      <td>Georgi</td>\n",
       "      <td>Facello</td>\n",
       "      <td>M</td>\n",
       "      <td>1986-06-26</td>\n",
       "    </tr>\n",
       "    <tr>\n",
       "      <th>2</th>\n",
       "      <td>10001</td>\n",
       "      <td>66074</td>\n",
       "      <td>1988-06-25</td>\n",
       "      <td>1989-06-25</td>\n",
       "      <td>1953-09-02</td>\n",
       "      <td>Georgi</td>\n",
       "      <td>Facello</td>\n",
       "      <td>M</td>\n",
       "      <td>1986-06-26</td>\n",
       "    </tr>\n",
       "    <tr>\n",
       "      <th>3</th>\n",
       "      <td>10001</td>\n",
       "      <td>66596</td>\n",
       "      <td>1989-06-25</td>\n",
       "      <td>1990-06-25</td>\n",
       "      <td>1953-09-02</td>\n",
       "      <td>Georgi</td>\n",
       "      <td>Facello</td>\n",
       "      <td>M</td>\n",
       "      <td>1986-06-26</td>\n",
       "    </tr>\n",
       "    <tr>\n",
       "      <th>4</th>\n",
       "      <td>10001</td>\n",
       "      <td>66961</td>\n",
       "      <td>1990-06-25</td>\n",
       "      <td>1991-06-25</td>\n",
       "      <td>1953-09-02</td>\n",
       "      <td>Georgi</td>\n",
       "      <td>Facello</td>\n",
       "      <td>M</td>\n",
       "      <td>1986-06-26</td>\n",
       "    </tr>\n",
       "    <tr>\n",
       "      <th>...</th>\n",
       "      <td>...</td>\n",
       "      <td>...</td>\n",
       "      <td>...</td>\n",
       "      <td>...</td>\n",
       "      <td>...</td>\n",
       "      <td>...</td>\n",
       "      <td>...</td>\n",
       "      <td>...</td>\n",
       "      <td>...</td>\n",
       "    </tr>\n",
       "    <tr>\n",
       "      <th>995</th>\n",
       "      <td>10100</td>\n",
       "      <td>70464</td>\n",
       "      <td>1998-09-18</td>\n",
       "      <td>1999-09-18</td>\n",
       "      <td>1953-04-21</td>\n",
       "      <td>Hironobu</td>\n",
       "      <td>Haraldson</td>\n",
       "      <td>F</td>\n",
       "      <td>1987-09-21</td>\n",
       "    </tr>\n",
       "    <tr>\n",
       "      <th>996</th>\n",
       "      <td>10100</td>\n",
       "      <td>72343</td>\n",
       "      <td>1999-09-18</td>\n",
       "      <td>2000-09-17</td>\n",
       "      <td>1953-04-21</td>\n",
       "      <td>Hironobu</td>\n",
       "      <td>Haraldson</td>\n",
       "      <td>F</td>\n",
       "      <td>1987-09-21</td>\n",
       "    </tr>\n",
       "    <tr>\n",
       "      <th>997</th>\n",
       "      <td>10100</td>\n",
       "      <td>74365</td>\n",
       "      <td>2000-09-17</td>\n",
       "      <td>2001-09-17</td>\n",
       "      <td>1953-04-21</td>\n",
       "      <td>Hironobu</td>\n",
       "      <td>Haraldson</td>\n",
       "      <td>F</td>\n",
       "      <td>1987-09-21</td>\n",
       "    </tr>\n",
       "    <tr>\n",
       "      <th>998</th>\n",
       "      <td>10100</td>\n",
       "      <td>74957</td>\n",
       "      <td>2001-09-17</td>\n",
       "      <td>9999-01-01</td>\n",
       "      <td>1953-04-21</td>\n",
       "      <td>Hironobu</td>\n",
       "      <td>Haraldson</td>\n",
       "      <td>F</td>\n",
       "      <td>1987-09-21</td>\n",
       "    </tr>\n",
       "    <tr>\n",
       "      <th>999</th>\n",
       "      <td>10101</td>\n",
       "      <td>66591</td>\n",
       "      <td>1998-10-14</td>\n",
       "      <td>1999-10-14</td>\n",
       "      <td>1952-04-15</td>\n",
       "      <td>Perla</td>\n",
       "      <td>Heyers</td>\n",
       "      <td>F</td>\n",
       "      <td>1992-12-28</td>\n",
       "    </tr>\n",
       "  </tbody>\n",
       "</table>\n",
       "<p>1000 rows × 9 columns</p>\n",
       "</div>"
      ],
      "text/plain": [
       "     emp_no  salary   from_date     to_date  birth_date first_name  last_name  \\\n",
       "0     10001   60117  1986-06-26  1987-06-26  1953-09-02     Georgi    Facello   \n",
       "1     10001   62102  1987-06-26  1988-06-25  1953-09-02     Georgi    Facello   \n",
       "2     10001   66074  1988-06-25  1989-06-25  1953-09-02     Georgi    Facello   \n",
       "3     10001   66596  1989-06-25  1990-06-25  1953-09-02     Georgi    Facello   \n",
       "4     10001   66961  1990-06-25  1991-06-25  1953-09-02     Georgi    Facello   \n",
       "..      ...     ...         ...         ...         ...        ...        ...   \n",
       "995   10100   70464  1998-09-18  1999-09-18  1953-04-21   Hironobu  Haraldson   \n",
       "996   10100   72343  1999-09-18  2000-09-17  1953-04-21   Hironobu  Haraldson   \n",
       "997   10100   74365  2000-09-17  2001-09-17  1953-04-21   Hironobu  Haraldson   \n",
       "998   10100   74957  2001-09-17  9999-01-01  1953-04-21   Hironobu  Haraldson   \n",
       "999   10101   66591  1998-10-14  1999-10-14  1952-04-15      Perla     Heyers   \n",
       "\n",
       "    gender   hire_date  \n",
       "0        M  1986-06-26  \n",
       "1        M  1986-06-26  \n",
       "2        M  1986-06-26  \n",
       "3        M  1986-06-26  \n",
       "4        M  1986-06-26  \n",
       "..     ...         ...  \n",
       "995      F  1987-09-21  \n",
       "996      F  1987-09-21  \n",
       "997      F  1987-09-21  \n",
       "998      F  1987-09-21  \n",
       "999      F  1992-12-28  \n",
       "\n",
       "[1000 rows x 9 columns]"
      ]
     },
     "execution_count": 3,
     "metadata": {},
     "output_type": "execute_result"
    }
   ],
   "source": [
    "salaries_df"
   ]
  },
  {
   "cell_type": "markdown",
   "id": "european-organization",
   "metadata": {},
   "source": [
    "- Saving CSV"
   ]
  },
  {
   "cell_type": "code",
   "execution_count": 4,
   "id": "controlled-label",
   "metadata": {},
   "outputs": [],
   "source": [
    "# Adding index=False to skip the auto generated index from pandas\n",
    "salaries_df.to_csv('salaries2.csv', index=False)"
   ]
  },
  {
   "cell_type": "code",
   "execution_count": null,
   "id": "9470b5f4-ca26-4b5c-b58c-9d10d915cc8d",
   "metadata": {},
   "outputs": [],
   "source": []
  },
  {
   "cell_type": "markdown",
   "id": "opposite-reference",
   "metadata": {},
   "source": [
    "### Other types\n",
    "\n",
    "There are some other ways to save and read a pandas Dataframe.\n",
    "\n",
    "The most used ones are:\n",
    "- Pickle (`.pkl`): Python serialization\n",
    "    - `df.to_pickle()` and `pd.read_pickle()`\n",
    "- Parquet (`.parquet`): Apache format (columnar)\n",
    "    - `df.to_pickle()` and `pd.read_parquet()`\n",
    "    \n",
    "Both of them are faster than CSV reading, and preserve the value types"
   ]
  },
  {
   "cell_type": "markdown",
   "id": "delayed-spoke",
   "metadata": {},
   "source": [
    "#### Head & Tail"
   ]
  },
  {
   "cell_type": "code",
   "execution_count": 5,
   "id": "grateful-framework",
   "metadata": {},
   "outputs": [
    {
     "data": {
      "text/html": [
       "<div>\n",
       "<style scoped>\n",
       "    .dataframe tbody tr th:only-of-type {\n",
       "        vertical-align: middle;\n",
       "    }\n",
       "\n",
       "    .dataframe tbody tr th {\n",
       "        vertical-align: top;\n",
       "    }\n",
       "\n",
       "    .dataframe thead th {\n",
       "        text-align: right;\n",
       "    }\n",
       "</style>\n",
       "<table border=\"1\" class=\"dataframe\">\n",
       "  <thead>\n",
       "    <tr style=\"text-align: right;\">\n",
       "      <th></th>\n",
       "      <th>emp_no</th>\n",
       "      <th>salary</th>\n",
       "      <th>from_date</th>\n",
       "      <th>to_date</th>\n",
       "      <th>birth_date</th>\n",
       "      <th>first_name</th>\n",
       "      <th>last_name</th>\n",
       "      <th>gender</th>\n",
       "      <th>hire_date</th>\n",
       "    </tr>\n",
       "  </thead>\n",
       "  <tbody>\n",
       "    <tr>\n",
       "      <th>0</th>\n",
       "      <td>10001</td>\n",
       "      <td>60117</td>\n",
       "      <td>1986-06-26</td>\n",
       "      <td>1987-06-26</td>\n",
       "      <td>1953-09-02</td>\n",
       "      <td>Georgi</td>\n",
       "      <td>Facello</td>\n",
       "      <td>M</td>\n",
       "      <td>1986-06-26</td>\n",
       "    </tr>\n",
       "    <tr>\n",
       "      <th>1</th>\n",
       "      <td>10001</td>\n",
       "      <td>62102</td>\n",
       "      <td>1987-06-26</td>\n",
       "      <td>1988-06-25</td>\n",
       "      <td>1953-09-02</td>\n",
       "      <td>Georgi</td>\n",
       "      <td>Facello</td>\n",
       "      <td>M</td>\n",
       "      <td>1986-06-26</td>\n",
       "    </tr>\n",
       "    <tr>\n",
       "      <th>2</th>\n",
       "      <td>10001</td>\n",
       "      <td>66074</td>\n",
       "      <td>1988-06-25</td>\n",
       "      <td>1989-06-25</td>\n",
       "      <td>1953-09-02</td>\n",
       "      <td>Georgi</td>\n",
       "      <td>Facello</td>\n",
       "      <td>M</td>\n",
       "      <td>1986-06-26</td>\n",
       "    </tr>\n",
       "    <tr>\n",
       "      <th>3</th>\n",
       "      <td>10001</td>\n",
       "      <td>66596</td>\n",
       "      <td>1989-06-25</td>\n",
       "      <td>1990-06-25</td>\n",
       "      <td>1953-09-02</td>\n",
       "      <td>Georgi</td>\n",
       "      <td>Facello</td>\n",
       "      <td>M</td>\n",
       "      <td>1986-06-26</td>\n",
       "    </tr>\n",
       "    <tr>\n",
       "      <th>4</th>\n",
       "      <td>10001</td>\n",
       "      <td>66961</td>\n",
       "      <td>1990-06-25</td>\n",
       "      <td>1991-06-25</td>\n",
       "      <td>1953-09-02</td>\n",
       "      <td>Georgi</td>\n",
       "      <td>Facello</td>\n",
       "      <td>M</td>\n",
       "      <td>1986-06-26</td>\n",
       "    </tr>\n",
       "    <tr>\n",
       "      <th>5</th>\n",
       "      <td>10001</td>\n",
       "      <td>71046</td>\n",
       "      <td>1991-06-25</td>\n",
       "      <td>1992-06-24</td>\n",
       "      <td>1953-09-02</td>\n",
       "      <td>Georgi</td>\n",
       "      <td>Facello</td>\n",
       "      <td>M</td>\n",
       "      <td>1986-06-26</td>\n",
       "    </tr>\n",
       "    <tr>\n",
       "      <th>6</th>\n",
       "      <td>10001</td>\n",
       "      <td>74333</td>\n",
       "      <td>1992-06-24</td>\n",
       "      <td>1993-06-24</td>\n",
       "      <td>1953-09-02</td>\n",
       "      <td>Georgi</td>\n",
       "      <td>Facello</td>\n",
       "      <td>M</td>\n",
       "      <td>1986-06-26</td>\n",
       "    </tr>\n",
       "    <tr>\n",
       "      <th>7</th>\n",
       "      <td>10001</td>\n",
       "      <td>75286</td>\n",
       "      <td>1993-06-24</td>\n",
       "      <td>1994-06-24</td>\n",
       "      <td>1953-09-02</td>\n",
       "      <td>Georgi</td>\n",
       "      <td>Facello</td>\n",
       "      <td>M</td>\n",
       "      <td>1986-06-26</td>\n",
       "    </tr>\n",
       "    <tr>\n",
       "      <th>8</th>\n",
       "      <td>10001</td>\n",
       "      <td>75994</td>\n",
       "      <td>1994-06-24</td>\n",
       "      <td>1995-06-24</td>\n",
       "      <td>1953-09-02</td>\n",
       "      <td>Georgi</td>\n",
       "      <td>Facello</td>\n",
       "      <td>M</td>\n",
       "      <td>1986-06-26</td>\n",
       "    </tr>\n",
       "    <tr>\n",
       "      <th>9</th>\n",
       "      <td>10001</td>\n",
       "      <td>76884</td>\n",
       "      <td>1995-06-24</td>\n",
       "      <td>1996-06-23</td>\n",
       "      <td>1953-09-02</td>\n",
       "      <td>Georgi</td>\n",
       "      <td>Facello</td>\n",
       "      <td>M</td>\n",
       "      <td>1986-06-26</td>\n",
       "    </tr>\n",
       "  </tbody>\n",
       "</table>\n",
       "</div>"
      ],
      "text/plain": [
       "   emp_no  salary   from_date     to_date  birth_date first_name last_name  \\\n",
       "0   10001   60117  1986-06-26  1987-06-26  1953-09-02     Georgi   Facello   \n",
       "1   10001   62102  1987-06-26  1988-06-25  1953-09-02     Georgi   Facello   \n",
       "2   10001   66074  1988-06-25  1989-06-25  1953-09-02     Georgi   Facello   \n",
       "3   10001   66596  1989-06-25  1990-06-25  1953-09-02     Georgi   Facello   \n",
       "4   10001   66961  1990-06-25  1991-06-25  1953-09-02     Georgi   Facello   \n",
       "5   10001   71046  1991-06-25  1992-06-24  1953-09-02     Georgi   Facello   \n",
       "6   10001   74333  1992-06-24  1993-06-24  1953-09-02     Georgi   Facello   \n",
       "7   10001   75286  1993-06-24  1994-06-24  1953-09-02     Georgi   Facello   \n",
       "8   10001   75994  1994-06-24  1995-06-24  1953-09-02     Georgi   Facello   \n",
       "9   10001   76884  1995-06-24  1996-06-23  1953-09-02     Georgi   Facello   \n",
       "\n",
       "  gender   hire_date  \n",
       "0      M  1986-06-26  \n",
       "1      M  1986-06-26  \n",
       "2      M  1986-06-26  \n",
       "3      M  1986-06-26  \n",
       "4      M  1986-06-26  \n",
       "5      M  1986-06-26  \n",
       "6      M  1986-06-26  \n",
       "7      M  1986-06-26  \n",
       "8      M  1986-06-26  \n",
       "9      M  1986-06-26  "
      ]
     },
     "execution_count": 5,
     "metadata": {},
     "output_type": "execute_result"
    }
   ],
   "source": [
    "salaries_df.head(10)"
   ]
  },
  {
   "cell_type": "code",
   "execution_count": 6,
   "id": "collaborative-witness",
   "metadata": {},
   "outputs": [
    {
     "data": {
      "text/html": [
       "<div>\n",
       "<style scoped>\n",
       "    .dataframe tbody tr th:only-of-type {\n",
       "        vertical-align: middle;\n",
       "    }\n",
       "\n",
       "    .dataframe tbody tr th {\n",
       "        vertical-align: top;\n",
       "    }\n",
       "\n",
       "    .dataframe thead th {\n",
       "        text-align: right;\n",
       "    }\n",
       "</style>\n",
       "<table border=\"1\" class=\"dataframe\">\n",
       "  <thead>\n",
       "    <tr style=\"text-align: right;\">\n",
       "      <th></th>\n",
       "      <th>emp_no</th>\n",
       "      <th>salary</th>\n",
       "      <th>from_date</th>\n",
       "      <th>to_date</th>\n",
       "      <th>birth_date</th>\n",
       "      <th>first_name</th>\n",
       "      <th>last_name</th>\n",
       "      <th>gender</th>\n",
       "      <th>hire_date</th>\n",
       "    </tr>\n",
       "  </thead>\n",
       "  <tbody>\n",
       "    <tr>\n",
       "      <th>997</th>\n",
       "      <td>10100</td>\n",
       "      <td>74365</td>\n",
       "      <td>2000-09-17</td>\n",
       "      <td>2001-09-17</td>\n",
       "      <td>1953-04-21</td>\n",
       "      <td>Hironobu</td>\n",
       "      <td>Haraldson</td>\n",
       "      <td>F</td>\n",
       "      <td>1987-09-21</td>\n",
       "    </tr>\n",
       "    <tr>\n",
       "      <th>998</th>\n",
       "      <td>10100</td>\n",
       "      <td>74957</td>\n",
       "      <td>2001-09-17</td>\n",
       "      <td>9999-01-01</td>\n",
       "      <td>1953-04-21</td>\n",
       "      <td>Hironobu</td>\n",
       "      <td>Haraldson</td>\n",
       "      <td>F</td>\n",
       "      <td>1987-09-21</td>\n",
       "    </tr>\n",
       "    <tr>\n",
       "      <th>999</th>\n",
       "      <td>10101</td>\n",
       "      <td>66591</td>\n",
       "      <td>1998-10-14</td>\n",
       "      <td>1999-10-14</td>\n",
       "      <td>1952-04-15</td>\n",
       "      <td>Perla</td>\n",
       "      <td>Heyers</td>\n",
       "      <td>F</td>\n",
       "      <td>1992-12-28</td>\n",
       "    </tr>\n",
       "  </tbody>\n",
       "</table>\n",
       "</div>"
      ],
      "text/plain": [
       "     emp_no  salary   from_date     to_date  birth_date first_name  last_name  \\\n",
       "997   10100   74365  2000-09-17  2001-09-17  1953-04-21   Hironobu  Haraldson   \n",
       "998   10100   74957  2001-09-17  9999-01-01  1953-04-21   Hironobu  Haraldson   \n",
       "999   10101   66591  1998-10-14  1999-10-14  1952-04-15      Perla     Heyers   \n",
       "\n",
       "    gender   hire_date  \n",
       "997      F  1987-09-21  \n",
       "998      F  1987-09-21  \n",
       "999      F  1992-12-28  "
      ]
     },
     "execution_count": 6,
     "metadata": {},
     "output_type": "execute_result"
    }
   ],
   "source": [
    "salaries_df.tail(3)"
   ]
  },
  {
   "cell_type": "markdown",
   "id": "verified-federation",
   "metadata": {},
   "source": [
    "#### Data types"
   ]
  },
  {
   "cell_type": "code",
   "execution_count": 7,
   "id": "eligible-frank",
   "metadata": {},
   "outputs": [
    {
     "data": {
      "text/plain": [
       "emp_no         int64\n",
       "salary         int64\n",
       "from_date     object\n",
       "to_date       object\n",
       "birth_date    object\n",
       "first_name    object\n",
       "last_name     object\n",
       "gender        object\n",
       "hire_date     object\n",
       "dtype: object"
      ]
     },
     "execution_count": 7,
     "metadata": {},
     "output_type": "execute_result"
    }
   ],
   "source": [
    "salaries_df.dtypes"
   ]
  },
  {
   "cell_type": "markdown",
   "id": "advanced-triumph",
   "metadata": {},
   "source": [
    "### Explore"
   ]
  },
  {
   "cell_type": "code",
   "execution_count": 8,
   "id": "nasty-deposit",
   "metadata": {},
   "outputs": [
    {
     "name": "stdout",
     "output_type": "stream",
     "text": [
      "<class 'pandas.core.series.Series'>\n"
     ]
    },
    {
     "data": {
      "text/plain": [
       "0      60117\n",
       "1      62102\n",
       "2      66074\n",
       "3      66596\n",
       "4      66961\n",
       "       ...  \n",
       "995    70464\n",
       "996    72343\n",
       "997    74365\n",
       "998    74957\n",
       "999    66591\n",
       "Name: salary, Length: 1000, dtype: int64"
      ]
     },
     "execution_count": 8,
     "metadata": {},
     "output_type": "execute_result"
    }
   ],
   "source": [
    "# Get a single column (pandas Series)\n",
    "salaries_column = salaries_df['salary']\n",
    "print(type(salaries_column))\n",
    "salaries_column"
   ]
  },
  {
   "cell_type": "code",
   "execution_count": 9,
   "id": "creative-female",
   "metadata": {},
   "outputs": [
    {
     "name": "stdout",
     "output_type": "stream",
     "text": [
      "<class 'pandas.core.frame.DataFrame'>\n"
     ]
    },
    {
     "data": {
      "text/html": [
       "<div>\n",
       "<style scoped>\n",
       "    .dataframe tbody tr th:only-of-type {\n",
       "        vertical-align: middle;\n",
       "    }\n",
       "\n",
       "    .dataframe tbody tr th {\n",
       "        vertical-align: top;\n",
       "    }\n",
       "\n",
       "    .dataframe thead th {\n",
       "        text-align: right;\n",
       "    }\n",
       "</style>\n",
       "<table border=\"1\" class=\"dataframe\">\n",
       "  <thead>\n",
       "    <tr style=\"text-align: right;\">\n",
       "      <th></th>\n",
       "      <th>first_name</th>\n",
       "      <th>salary</th>\n",
       "    </tr>\n",
       "  </thead>\n",
       "  <tbody>\n",
       "    <tr>\n",
       "      <th>0</th>\n",
       "      <td>Georgi</td>\n",
       "      <td>60117</td>\n",
       "    </tr>\n",
       "    <tr>\n",
       "      <th>1</th>\n",
       "      <td>Georgi</td>\n",
       "      <td>62102</td>\n",
       "    </tr>\n",
       "    <tr>\n",
       "      <th>2</th>\n",
       "      <td>Georgi</td>\n",
       "      <td>66074</td>\n",
       "    </tr>\n",
       "    <tr>\n",
       "      <th>3</th>\n",
       "      <td>Georgi</td>\n",
       "      <td>66596</td>\n",
       "    </tr>\n",
       "    <tr>\n",
       "      <th>4</th>\n",
       "      <td>Georgi</td>\n",
       "      <td>66961</td>\n",
       "    </tr>\n",
       "    <tr>\n",
       "      <th>...</th>\n",
       "      <td>...</td>\n",
       "      <td>...</td>\n",
       "    </tr>\n",
       "    <tr>\n",
       "      <th>995</th>\n",
       "      <td>Hironobu</td>\n",
       "      <td>70464</td>\n",
       "    </tr>\n",
       "    <tr>\n",
       "      <th>996</th>\n",
       "      <td>Hironobu</td>\n",
       "      <td>72343</td>\n",
       "    </tr>\n",
       "    <tr>\n",
       "      <th>997</th>\n",
       "      <td>Hironobu</td>\n",
       "      <td>74365</td>\n",
       "    </tr>\n",
       "    <tr>\n",
       "      <th>998</th>\n",
       "      <td>Hironobu</td>\n",
       "      <td>74957</td>\n",
       "    </tr>\n",
       "    <tr>\n",
       "      <th>999</th>\n",
       "      <td>Perla</td>\n",
       "      <td>66591</td>\n",
       "    </tr>\n",
       "  </tbody>\n",
       "</table>\n",
       "<p>1000 rows × 2 columns</p>\n",
       "</div>"
      ],
      "text/plain": [
       "    first_name  salary\n",
       "0       Georgi   60117\n",
       "1       Georgi   62102\n",
       "2       Georgi   66074\n",
       "3       Georgi   66596\n",
       "4       Georgi   66961\n",
       "..         ...     ...\n",
       "995   Hironobu   70464\n",
       "996   Hironobu   72343\n",
       "997   Hironobu   74365\n",
       "998   Hironobu   74957\n",
       "999      Perla   66591\n",
       "\n",
       "[1000 rows x 2 columns]"
      ]
     },
     "execution_count": 9,
     "metadata": {},
     "output_type": "execute_result"
    }
   ],
   "source": [
    "# Get more columns (pandas DataFrame)\n",
    "name_and_salary = salaries_df[['first_name', 'salary']]\n",
    "print(type(name_and_salary))\n",
    "name_and_salary"
   ]
  },
  {
   "cell_type": "code",
   "execution_count": 11,
   "id": "overall-consideration",
   "metadata": {},
   "outputs": [
    {
     "data": {
      "text/html": [
       "<div>\n",
       "<style scoped>\n",
       "    .dataframe tbody tr th:only-of-type {\n",
       "        vertical-align: middle;\n",
       "    }\n",
       "\n",
       "    .dataframe tbody tr th {\n",
       "        vertical-align: top;\n",
       "    }\n",
       "\n",
       "    .dataframe thead th {\n",
       "        text-align: right;\n",
       "    }\n",
       "</style>\n",
       "<table border=\"1\" class=\"dataframe\">\n",
       "  <thead>\n",
       "    <tr style=\"text-align: right;\">\n",
       "      <th></th>\n",
       "      <th>emp_no</th>\n",
       "      <th>salary</th>\n",
       "      <th>from_date</th>\n",
       "      <th>to_date</th>\n",
       "      <th>birth_date</th>\n",
       "      <th>first_name</th>\n",
       "      <th>last_name</th>\n",
       "      <th>gender</th>\n",
       "      <th>hire_date</th>\n",
       "    </tr>\n",
       "  </thead>\n",
       "  <tbody>\n",
       "    <tr>\n",
       "      <th>0</th>\n",
       "      <td>10001</td>\n",
       "      <td>60117</td>\n",
       "      <td>1986-06-26</td>\n",
       "      <td>1987-06-26</td>\n",
       "      <td>1953-09-02</td>\n",
       "      <td>Georgis</td>\n",
       "      <td>Facello</td>\n",
       "      <td>M</td>\n",
       "      <td>1986-06-26</td>\n",
       "    </tr>\n",
       "    <tr>\n",
       "      <th>1</th>\n",
       "      <td>10001</td>\n",
       "      <td>62102</td>\n",
       "      <td>1987-06-26</td>\n",
       "      <td>1988-06-25</td>\n",
       "      <td>1953-09-02</td>\n",
       "      <td>Georgi</td>\n",
       "      <td>Facello</td>\n",
       "      <td>M</td>\n",
       "      <td>1986-06-26</td>\n",
       "    </tr>\n",
       "  </tbody>\n",
       "</table>\n",
       "</div>"
      ],
      "text/plain": [
       "   emp_no  salary   from_date     to_date  birth_date first_name last_name  \\\n",
       "0   10001   60117  1986-06-26  1987-06-26  1953-09-02    Georgis   Facello   \n",
       "1   10001   62102  1987-06-26  1988-06-25  1953-09-02     Georgi   Facello   \n",
       "\n",
       "  gender   hire_date  \n",
       "0      M  1986-06-26  \n",
       "1      M  1986-06-26  "
      ]
     },
     "execution_count": 11,
     "metadata": {},
     "output_type": "execute_result"
    }
   ],
   "source": [
    "# Assign values\n",
    "salaries_df.loc[0, 'first_name'] = 'Georgis'\n",
    "salaries_df.head(2)"
   ]
  },
  {
   "cell_type": "markdown",
   "id": "opening-miami",
   "metadata": {},
   "source": [
    "---\n",
    "---"
   ]
  },
  {
   "cell_type": "markdown",
   "id": "lightweight-newcastle",
   "metadata": {},
   "source": [
    "### Operations with columns"
   ]
  },
  {
   "cell_type": "markdown",
   "id": "celtic-editing",
   "metadata": {},
   "source": [
    "You can know all the columns using columns `attribute`"
   ]
  },
  {
   "cell_type": "code",
   "execution_count": 12,
   "id": "interstate-pottery",
   "metadata": {},
   "outputs": [
    {
     "data": {
      "text/plain": [
       "Index(['emp_no', 'salary', 'from_date', 'to_date', 'birth_date', 'first_name',\n",
       "       'last_name', 'gender', 'hire_date'],\n",
       "      dtype='object')"
      ]
     },
     "execution_count": 12,
     "metadata": {},
     "output_type": "execute_result"
    }
   ],
   "source": [
    "salaries_df.columns"
   ]
  },
  {
   "cell_type": "markdown",
   "id": "standard-color",
   "metadata": {},
   "source": [
    "You can use math operations on integer or float columns\n"
   ]
  },
  {
   "cell_type": "code",
   "execution_count": 13,
   "id": "developmental-variation",
   "metadata": {},
   "outputs": [
    {
     "data": {
      "text/plain": [
       "0      60117\n",
       "1      62102\n",
       "2      66074\n",
       "3      66596\n",
       "4      66961\n",
       "       ...  \n",
       "995    70464\n",
       "996    72343\n",
       "997    74365\n",
       "998    74957\n",
       "999    66591\n",
       "Name: salary, Length: 1000, dtype: int64"
      ]
     },
     "execution_count": 13,
     "metadata": {},
     "output_type": "execute_result"
    }
   ],
   "source": [
    "salaries_df['salary']"
   ]
  },
  {
   "cell_type": "code",
   "execution_count": 14,
   "id": "painted-jimmy",
   "metadata": {},
   "outputs": [
    {
     "data": {
      "text/plain": [
       "0      60127\n",
       "1      62112\n",
       "2      66084\n",
       "3      66606\n",
       "4      66971\n",
       "       ...  \n",
       "995    70474\n",
       "996    72353\n",
       "997    74375\n",
       "998    74967\n",
       "999    66601\n",
       "Name: salary, Length: 1000, dtype: int64"
      ]
     },
     "execution_count": 14,
     "metadata": {},
     "output_type": "execute_result"
    }
   ],
   "source": [
    "salaries_df['salary'] + 10"
   ]
  },
  {
   "cell_type": "code",
   "execution_count": 15,
   "id": "geological-healing",
   "metadata": {},
   "outputs": [
    {
     "data": {
      "text/plain": [
       "0      120234\n",
       "1      124204\n",
       "2      132148\n",
       "3      133192\n",
       "4      133922\n",
       "        ...  \n",
       "995    140928\n",
       "996    144686\n",
       "997    148730\n",
       "998    149914\n",
       "999    133182\n",
       "Name: salary, Length: 1000, dtype: int64"
      ]
     },
     "execution_count": 15,
     "metadata": {},
     "output_type": "execute_result"
    }
   ],
   "source": [
    "salaries_df['salary'] * 2"
   ]
  },
  {
   "cell_type": "markdown",
   "id": "utility-daisy",
   "metadata": {},
   "source": [
    "#### Filtering"
   ]
  },
  {
   "cell_type": "markdown",
   "id": "chief-observation",
   "metadata": {},
   "source": [
    "Using square braquets"
   ]
  },
  {
   "cell_type": "code",
   "execution_count": 18,
   "id": "automated-moses",
   "metadata": {},
   "outputs": [
    {
     "data": {
      "text/html": [
       "<div>\n",
       "<style scoped>\n",
       "    .dataframe tbody tr th:only-of-type {\n",
       "        vertical-align: middle;\n",
       "    }\n",
       "\n",
       "    .dataframe tbody tr th {\n",
       "        vertical-align: top;\n",
       "    }\n",
       "\n",
       "    .dataframe thead th {\n",
       "        text-align: right;\n",
       "    }\n",
       "</style>\n",
       "<table border=\"1\" class=\"dataframe\">\n",
       "  <thead>\n",
       "    <tr style=\"text-align: right;\">\n",
       "      <th></th>\n",
       "      <th>emp_no</th>\n",
       "      <th>salary</th>\n",
       "      <th>from_date</th>\n",
       "      <th>to_date</th>\n",
       "      <th>birth_date</th>\n",
       "      <th>first_name</th>\n",
       "      <th>last_name</th>\n",
       "      <th>gender</th>\n",
       "      <th>hire_date</th>\n",
       "    </tr>\n",
       "  </thead>\n",
       "  <tbody>\n",
       "    <tr>\n",
       "      <th>1</th>\n",
       "      <td>10001</td>\n",
       "      <td>62102</td>\n",
       "      <td>1987-06-26</td>\n",
       "      <td>1988-06-25</td>\n",
       "      <td>1953-09-02</td>\n",
       "      <td>Georgi</td>\n",
       "      <td>Facello</td>\n",
       "      <td>M</td>\n",
       "      <td>1986-06-26</td>\n",
       "    </tr>\n",
       "    <tr>\n",
       "      <th>2</th>\n",
       "      <td>10001</td>\n",
       "      <td>66074</td>\n",
       "      <td>1988-06-25</td>\n",
       "      <td>1989-06-25</td>\n",
       "      <td>1953-09-02</td>\n",
       "      <td>Georgi</td>\n",
       "      <td>Facello</td>\n",
       "      <td>M</td>\n",
       "      <td>1986-06-26</td>\n",
       "    </tr>\n",
       "    <tr>\n",
       "      <th>3</th>\n",
       "      <td>10001</td>\n",
       "      <td>66596</td>\n",
       "      <td>1989-06-25</td>\n",
       "      <td>1990-06-25</td>\n",
       "      <td>1953-09-02</td>\n",
       "      <td>Georgi</td>\n",
       "      <td>Facello</td>\n",
       "      <td>M</td>\n",
       "      <td>1986-06-26</td>\n",
       "    </tr>\n",
       "    <tr>\n",
       "      <th>4</th>\n",
       "      <td>10001</td>\n",
       "      <td>66961</td>\n",
       "      <td>1990-06-25</td>\n",
       "      <td>1991-06-25</td>\n",
       "      <td>1953-09-02</td>\n",
       "      <td>Georgi</td>\n",
       "      <td>Facello</td>\n",
       "      <td>M</td>\n",
       "      <td>1986-06-26</td>\n",
       "    </tr>\n",
       "    <tr>\n",
       "      <th>5</th>\n",
       "      <td>10001</td>\n",
       "      <td>71046</td>\n",
       "      <td>1991-06-25</td>\n",
       "      <td>1992-06-24</td>\n",
       "      <td>1953-09-02</td>\n",
       "      <td>Georgi</td>\n",
       "      <td>Facello</td>\n",
       "      <td>M</td>\n",
       "      <td>1986-06-26</td>\n",
       "    </tr>\n",
       "    <tr>\n",
       "      <th>6</th>\n",
       "      <td>10001</td>\n",
       "      <td>74333</td>\n",
       "      <td>1992-06-24</td>\n",
       "      <td>1993-06-24</td>\n",
       "      <td>1953-09-02</td>\n",
       "      <td>Georgi</td>\n",
       "      <td>Facello</td>\n",
       "      <td>M</td>\n",
       "      <td>1986-06-26</td>\n",
       "    </tr>\n",
       "    <tr>\n",
       "      <th>7</th>\n",
       "      <td>10001</td>\n",
       "      <td>75286</td>\n",
       "      <td>1993-06-24</td>\n",
       "      <td>1994-06-24</td>\n",
       "      <td>1953-09-02</td>\n",
       "      <td>Georgi</td>\n",
       "      <td>Facello</td>\n",
       "      <td>M</td>\n",
       "      <td>1986-06-26</td>\n",
       "    </tr>\n",
       "    <tr>\n",
       "      <th>8</th>\n",
       "      <td>10001</td>\n",
       "      <td>75994</td>\n",
       "      <td>1994-06-24</td>\n",
       "      <td>1995-06-24</td>\n",
       "      <td>1953-09-02</td>\n",
       "      <td>Georgi</td>\n",
       "      <td>Facello</td>\n",
       "      <td>M</td>\n",
       "      <td>1986-06-26</td>\n",
       "    </tr>\n",
       "    <tr>\n",
       "      <th>9</th>\n",
       "      <td>10001</td>\n",
       "      <td>76884</td>\n",
       "      <td>1995-06-24</td>\n",
       "      <td>1996-06-23</td>\n",
       "      <td>1953-09-02</td>\n",
       "      <td>Georgi</td>\n",
       "      <td>Facello</td>\n",
       "      <td>M</td>\n",
       "      <td>1986-06-26</td>\n",
       "    </tr>\n",
       "    <tr>\n",
       "      <th>10</th>\n",
       "      <td>10001</td>\n",
       "      <td>80013</td>\n",
       "      <td>1996-06-23</td>\n",
       "      <td>1997-06-23</td>\n",
       "      <td>1953-09-02</td>\n",
       "      <td>Georgi</td>\n",
       "      <td>Facello</td>\n",
       "      <td>M</td>\n",
       "      <td>1986-06-26</td>\n",
       "    </tr>\n",
       "    <tr>\n",
       "      <th>11</th>\n",
       "      <td>10001</td>\n",
       "      <td>81025</td>\n",
       "      <td>1997-06-23</td>\n",
       "      <td>1998-06-23</td>\n",
       "      <td>1953-09-02</td>\n",
       "      <td>Georgi</td>\n",
       "      <td>Facello</td>\n",
       "      <td>M</td>\n",
       "      <td>1986-06-26</td>\n",
       "    </tr>\n",
       "    <tr>\n",
       "      <th>12</th>\n",
       "      <td>10001</td>\n",
       "      <td>81097</td>\n",
       "      <td>1998-06-23</td>\n",
       "      <td>1999-06-23</td>\n",
       "      <td>1953-09-02</td>\n",
       "      <td>Georgi</td>\n",
       "      <td>Facello</td>\n",
       "      <td>M</td>\n",
       "      <td>1986-06-26</td>\n",
       "    </tr>\n",
       "    <tr>\n",
       "      <th>13</th>\n",
       "      <td>10001</td>\n",
       "      <td>84917</td>\n",
       "      <td>1999-06-23</td>\n",
       "      <td>2000-06-22</td>\n",
       "      <td>1953-09-02</td>\n",
       "      <td>Georgi</td>\n",
       "      <td>Facello</td>\n",
       "      <td>M</td>\n",
       "      <td>1986-06-26</td>\n",
       "    </tr>\n",
       "    <tr>\n",
       "      <th>14</th>\n",
       "      <td>10001</td>\n",
       "      <td>85112</td>\n",
       "      <td>2000-06-22</td>\n",
       "      <td>2001-06-22</td>\n",
       "      <td>1953-09-02</td>\n",
       "      <td>Georgi</td>\n",
       "      <td>Facello</td>\n",
       "      <td>M</td>\n",
       "      <td>1986-06-26</td>\n",
       "    </tr>\n",
       "    <tr>\n",
       "      <th>15</th>\n",
       "      <td>10001</td>\n",
       "      <td>85097</td>\n",
       "      <td>2001-06-22</td>\n",
       "      <td>2002-06-22</td>\n",
       "      <td>1953-09-02</td>\n",
       "      <td>Georgi</td>\n",
       "      <td>Facello</td>\n",
       "      <td>M</td>\n",
       "      <td>1986-06-26</td>\n",
       "    </tr>\n",
       "    <tr>\n",
       "      <th>16</th>\n",
       "      <td>10001</td>\n",
       "      <td>88958</td>\n",
       "      <td>2002-06-22</td>\n",
       "      <td>9999-01-01</td>\n",
       "      <td>1953-09-02</td>\n",
       "      <td>Georgi</td>\n",
       "      <td>Facello</td>\n",
       "      <td>M</td>\n",
       "      <td>1986-06-26</td>\n",
       "    </tr>\n",
       "  </tbody>\n",
       "</table>\n",
       "</div>"
      ],
      "text/plain": [
       "    emp_no  salary   from_date     to_date  birth_date first_name last_name  \\\n",
       "1    10001   62102  1987-06-26  1988-06-25  1953-09-02     Georgi   Facello   \n",
       "2    10001   66074  1988-06-25  1989-06-25  1953-09-02     Georgi   Facello   \n",
       "3    10001   66596  1989-06-25  1990-06-25  1953-09-02     Georgi   Facello   \n",
       "4    10001   66961  1990-06-25  1991-06-25  1953-09-02     Georgi   Facello   \n",
       "5    10001   71046  1991-06-25  1992-06-24  1953-09-02     Georgi   Facello   \n",
       "6    10001   74333  1992-06-24  1993-06-24  1953-09-02     Georgi   Facello   \n",
       "7    10001   75286  1993-06-24  1994-06-24  1953-09-02     Georgi   Facello   \n",
       "8    10001   75994  1994-06-24  1995-06-24  1953-09-02     Georgi   Facello   \n",
       "9    10001   76884  1995-06-24  1996-06-23  1953-09-02     Georgi   Facello   \n",
       "10   10001   80013  1996-06-23  1997-06-23  1953-09-02     Georgi   Facello   \n",
       "11   10001   81025  1997-06-23  1998-06-23  1953-09-02     Georgi   Facello   \n",
       "12   10001   81097  1998-06-23  1999-06-23  1953-09-02     Georgi   Facello   \n",
       "13   10001   84917  1999-06-23  2000-06-22  1953-09-02     Georgi   Facello   \n",
       "14   10001   85112  2000-06-22  2001-06-22  1953-09-02     Georgi   Facello   \n",
       "15   10001   85097  2001-06-22  2002-06-22  1953-09-02     Georgi   Facello   \n",
       "16   10001   88958  2002-06-22  9999-01-01  1953-09-02     Georgi   Facello   \n",
       "\n",
       "   gender   hire_date  \n",
       "1       M  1986-06-26  \n",
       "2       M  1986-06-26  \n",
       "3       M  1986-06-26  \n",
       "4       M  1986-06-26  \n",
       "5       M  1986-06-26  \n",
       "6       M  1986-06-26  \n",
       "7       M  1986-06-26  \n",
       "8       M  1986-06-26  \n",
       "9       M  1986-06-26  \n",
       "10      M  1986-06-26  \n",
       "11      M  1986-06-26  \n",
       "12      M  1986-06-26  \n",
       "13      M  1986-06-26  \n",
       "14      M  1986-06-26  \n",
       "15      M  1986-06-26  \n",
       "16      M  1986-06-26  "
      ]
     },
     "execution_count": 18,
     "metadata": {},
     "output_type": "execute_result"
    }
   ],
   "source": [
    "salaries_df[salaries_df['first_name'] == 'Georgi']"
   ]
  },
  {
   "cell_type": "code",
   "execution_count": 19,
   "id": "special-phrase",
   "metadata": {},
   "outputs": [
    {
     "data": {
      "text/html": [
       "<div>\n",
       "<style scoped>\n",
       "    .dataframe tbody tr th:only-of-type {\n",
       "        vertical-align: middle;\n",
       "    }\n",
       "\n",
       "    .dataframe tbody tr th {\n",
       "        vertical-align: top;\n",
       "    }\n",
       "\n",
       "    .dataframe thead th {\n",
       "        text-align: right;\n",
       "    }\n",
       "</style>\n",
       "<table border=\"1\" class=\"dataframe\">\n",
       "  <thead>\n",
       "    <tr style=\"text-align: right;\">\n",
       "      <th></th>\n",
       "      <th>emp_no</th>\n",
       "      <th>salary</th>\n",
       "      <th>from_date</th>\n",
       "      <th>to_date</th>\n",
       "      <th>birth_date</th>\n",
       "      <th>first_name</th>\n",
       "      <th>last_name</th>\n",
       "      <th>gender</th>\n",
       "      <th>hire_date</th>\n",
       "    </tr>\n",
       "  </thead>\n",
       "  <tbody>\n",
       "    <tr>\n",
       "      <th>681</th>\n",
       "      <td>10068</td>\n",
       "      <td>111623</td>\n",
       "      <td>1999-08-04</td>\n",
       "      <td>2000-08-03</td>\n",
       "      <td>1962-11-26</td>\n",
       "      <td>Charlene</td>\n",
       "      <td>Brattka</td>\n",
       "      <td>M</td>\n",
       "      <td>1987-08-07</td>\n",
       "    </tr>\n",
       "    <tr>\n",
       "      <th>682</th>\n",
       "      <td>10068</td>\n",
       "      <td>112470</td>\n",
       "      <td>2000-08-03</td>\n",
       "      <td>2001-08-03</td>\n",
       "      <td>1962-11-26</td>\n",
       "      <td>Charlene</td>\n",
       "      <td>Brattka</td>\n",
       "      <td>M</td>\n",
       "      <td>1987-08-07</td>\n",
       "    </tr>\n",
       "    <tr>\n",
       "      <th>683</th>\n",
       "      <td>10068</td>\n",
       "      <td>113229</td>\n",
       "      <td>2001-08-03</td>\n",
       "      <td>9999-01-01</td>\n",
       "      <td>1962-11-26</td>\n",
       "      <td>Charlene</td>\n",
       "      <td>Brattka</td>\n",
       "      <td>M</td>\n",
       "      <td>1987-08-07</td>\n",
       "    </tr>\n",
       "  </tbody>\n",
       "</table>\n",
       "</div>"
      ],
      "text/plain": [
       "     emp_no  salary   from_date     to_date  birth_date first_name last_name  \\\n",
       "681   10068  111623  1999-08-04  2000-08-03  1962-11-26   Charlene   Brattka   \n",
       "682   10068  112470  2000-08-03  2001-08-03  1962-11-26   Charlene   Brattka   \n",
       "683   10068  113229  2001-08-03  9999-01-01  1962-11-26   Charlene   Brattka   \n",
       "\n",
       "    gender   hire_date  \n",
       "681      M  1987-08-07  \n",
       "682      M  1987-08-07  \n",
       "683      M  1987-08-07  "
      ]
     },
     "execution_count": 19,
     "metadata": {},
     "output_type": "execute_result"
    }
   ],
   "source": [
    "salaries_df[salaries_df['salary'] > 110_000]"
   ]
  },
  {
   "cell_type": "markdown",
   "id": "final-remove",
   "metadata": {},
   "source": [
    "Using query"
   ]
  },
  {
   "cell_type": "code",
   "execution_count": 20,
   "id": "powerful-laser",
   "metadata": {},
   "outputs": [
    {
     "data": {
      "text/html": [
       "<div>\n",
       "<style scoped>\n",
       "    .dataframe tbody tr th:only-of-type {\n",
       "        vertical-align: middle;\n",
       "    }\n",
       "\n",
       "    .dataframe tbody tr th {\n",
       "        vertical-align: top;\n",
       "    }\n",
       "\n",
       "    .dataframe thead th {\n",
       "        text-align: right;\n",
       "    }\n",
       "</style>\n",
       "<table border=\"1\" class=\"dataframe\">\n",
       "  <thead>\n",
       "    <tr style=\"text-align: right;\">\n",
       "      <th></th>\n",
       "      <th>emp_no</th>\n",
       "      <th>salary</th>\n",
       "      <th>from_date</th>\n",
       "      <th>to_date</th>\n",
       "      <th>birth_date</th>\n",
       "      <th>first_name</th>\n",
       "      <th>last_name</th>\n",
       "      <th>gender</th>\n",
       "      <th>hire_date</th>\n",
       "    </tr>\n",
       "  </thead>\n",
       "  <tbody>\n",
       "    <tr>\n",
       "      <th>681</th>\n",
       "      <td>10068</td>\n",
       "      <td>111623</td>\n",
       "      <td>1999-08-04</td>\n",
       "      <td>2000-08-03</td>\n",
       "      <td>1962-11-26</td>\n",
       "      <td>Charlene</td>\n",
       "      <td>Brattka</td>\n",
       "      <td>M</td>\n",
       "      <td>1987-08-07</td>\n",
       "    </tr>\n",
       "    <tr>\n",
       "      <th>682</th>\n",
       "      <td>10068</td>\n",
       "      <td>112470</td>\n",
       "      <td>2000-08-03</td>\n",
       "      <td>2001-08-03</td>\n",
       "      <td>1962-11-26</td>\n",
       "      <td>Charlene</td>\n",
       "      <td>Brattka</td>\n",
       "      <td>M</td>\n",
       "      <td>1987-08-07</td>\n",
       "    </tr>\n",
       "    <tr>\n",
       "      <th>683</th>\n",
       "      <td>10068</td>\n",
       "      <td>113229</td>\n",
       "      <td>2001-08-03</td>\n",
       "      <td>9999-01-01</td>\n",
       "      <td>1962-11-26</td>\n",
       "      <td>Charlene</td>\n",
       "      <td>Brattka</td>\n",
       "      <td>M</td>\n",
       "      <td>1987-08-07</td>\n",
       "    </tr>\n",
       "  </tbody>\n",
       "</table>\n",
       "</div>"
      ],
      "text/plain": [
       "     emp_no  salary   from_date     to_date  birth_date first_name last_name  \\\n",
       "681   10068  111623  1999-08-04  2000-08-03  1962-11-26   Charlene   Brattka   \n",
       "682   10068  112470  2000-08-03  2001-08-03  1962-11-26   Charlene   Brattka   \n",
       "683   10068  113229  2001-08-03  9999-01-01  1962-11-26   Charlene   Brattka   \n",
       "\n",
       "    gender   hire_date  \n",
       "681      M  1987-08-07  \n",
       "682      M  1987-08-07  \n",
       "683      M  1987-08-07  "
      ]
     },
     "execution_count": 20,
     "metadata": {},
     "output_type": "execute_result"
    }
   ],
   "source": [
    "salaries_df.query('salary > 110_000')"
   ]
  },
  {
   "cell_type": "markdown",
   "id": "digital-revolution",
   "metadata": {},
   "source": [
    "#### Assigning new columns"
   ]
  },
  {
   "cell_type": "code",
   "execution_count": 21,
   "id": "favorite-shift",
   "metadata": {},
   "outputs": [
    {
     "data": {
      "text/html": [
       "<div>\n",
       "<style scoped>\n",
       "    .dataframe tbody tr th:only-of-type {\n",
       "        vertical-align: middle;\n",
       "    }\n",
       "\n",
       "    .dataframe tbody tr th {\n",
       "        vertical-align: top;\n",
       "    }\n",
       "\n",
       "    .dataframe thead th {\n",
       "        text-align: right;\n",
       "    }\n",
       "</style>\n",
       "<table border=\"1\" class=\"dataframe\">\n",
       "  <thead>\n",
       "    <tr style=\"text-align: right;\">\n",
       "      <th></th>\n",
       "      <th>emp_no</th>\n",
       "      <th>salary</th>\n",
       "      <th>from_date</th>\n",
       "      <th>to_date</th>\n",
       "      <th>birth_date</th>\n",
       "      <th>first_name</th>\n",
       "      <th>last_name</th>\n",
       "      <th>gender</th>\n",
       "      <th>hire_date</th>\n",
       "      <th>salary_in_mxn</th>\n",
       "    </tr>\n",
       "  </thead>\n",
       "  <tbody>\n",
       "    <tr>\n",
       "      <th>0</th>\n",
       "      <td>10001</td>\n",
       "      <td>60117</td>\n",
       "      <td>1986-06-26</td>\n",
       "      <td>1987-06-26</td>\n",
       "      <td>1953-09-02</td>\n",
       "      <td>Georgis</td>\n",
       "      <td>Facello</td>\n",
       "      <td>M</td>\n",
       "      <td>1986-06-26</td>\n",
       "      <td>1208351.7</td>\n",
       "    </tr>\n",
       "    <tr>\n",
       "      <th>1</th>\n",
       "      <td>10001</td>\n",
       "      <td>62102</td>\n",
       "      <td>1987-06-26</td>\n",
       "      <td>1988-06-25</td>\n",
       "      <td>1953-09-02</td>\n",
       "      <td>Georgi</td>\n",
       "      <td>Facello</td>\n",
       "      <td>M</td>\n",
       "      <td>1986-06-26</td>\n",
       "      <td>1248250.2</td>\n",
       "    </tr>\n",
       "    <tr>\n",
       "      <th>2</th>\n",
       "      <td>10001</td>\n",
       "      <td>66074</td>\n",
       "      <td>1988-06-25</td>\n",
       "      <td>1989-06-25</td>\n",
       "      <td>1953-09-02</td>\n",
       "      <td>Georgi</td>\n",
       "      <td>Facello</td>\n",
       "      <td>M</td>\n",
       "      <td>1986-06-26</td>\n",
       "      <td>1328087.4</td>\n",
       "    </tr>\n",
       "  </tbody>\n",
       "</table>\n",
       "</div>"
      ],
      "text/plain": [
       "   emp_no  salary   from_date     to_date  birth_date first_name last_name  \\\n",
       "0   10001   60117  1986-06-26  1987-06-26  1953-09-02    Georgis   Facello   \n",
       "1   10001   62102  1987-06-26  1988-06-25  1953-09-02     Georgi   Facello   \n",
       "2   10001   66074  1988-06-25  1989-06-25  1953-09-02     Georgi   Facello   \n",
       "\n",
       "  gender   hire_date  salary_in_mxn  \n",
       "0      M  1986-06-26      1208351.7  \n",
       "1      M  1986-06-26      1248250.2  \n",
       "2      M  1986-06-26      1328087.4  "
      ]
     },
     "execution_count": 21,
     "metadata": {},
     "output_type": "execute_result"
    }
   ],
   "source": [
    "# USD = 20 MXN\n",
    "salaries_df['salary_in_mxn'] = salaries_df['salary'] * 20.1\n",
    "salaries_df.head(3)"
   ]
  },
  {
   "cell_type": "markdown",
   "id": "structured-midwest",
   "metadata": {},
   "source": [
    "---\n",
    "---"
   ]
  },
  {
   "cell_type": "markdown",
   "id": "promising-georgia",
   "metadata": {},
   "source": [
    "### Dealing with dates\n",
    "Sometimes, when reading from CSV dates are parsed as strings. \n",
    "To convert it to datatime use `pd.to_datetime(pd.Series, format='')`"
   ]
  },
  {
   "cell_type": "code",
   "execution_count": 22,
   "id": "periodic-christianity",
   "metadata": {},
   "outputs": [],
   "source": [
    "salaries_df['from_date'] = pd.to_datetime(salaries_df['from_date'])\n",
    "salaries_df['hire_date'] = pd.to_datetime(salaries_df['hire_date'])"
   ]
  },
  {
   "cell_type": "code",
   "execution_count": 23,
   "id": "canadian-flexibility",
   "metadata": {},
   "outputs": [
    {
     "data": {
      "text/plain": [
       "emp_no                    int64\n",
       "salary                    int64\n",
       "from_date        datetime64[ns]\n",
       "to_date                  object\n",
       "birth_date               object\n",
       "first_name               object\n",
       "last_name                object\n",
       "gender                   object\n",
       "hire_date        datetime64[ns]\n",
       "salary_in_mxn           float64\n",
       "dtype: object"
      ]
     },
     "execution_count": 23,
     "metadata": {},
     "output_type": "execute_result"
    }
   ],
   "source": [
    "salaries_df.dtypes"
   ]
  },
  {
   "cell_type": "code",
   "execution_count": 25,
   "id": "770040ef-f202-43f1-ad96-45cfc087edc4",
   "metadata": {},
   "outputs": [
    {
     "data": {
      "text/plain": [
       "0       6\n",
       "1       6\n",
       "2       6\n",
       "3       6\n",
       "4       6\n",
       "       ..\n",
       "995     9\n",
       "996     9\n",
       "997     9\n",
       "998     9\n",
       "999    10\n",
       "Name: from_date, Length: 1000, dtype: int64"
      ]
     },
     "execution_count": 25,
     "metadata": {},
     "output_type": "execute_result"
    }
   ],
   "source": [
    "salaries_df['from_date'].dt.month"
   ]
  },
  {
   "cell_type": "markdown",
   "id": "present-painting",
   "metadata": {},
   "source": [
    "#### Useful pandas functions"
   ]
  },
  {
   "cell_type": "code",
   "execution_count": 26,
   "id": "liked-highway",
   "metadata": {},
   "outputs": [
    {
     "data": {
      "text/plain": [
       "64419.765"
      ]
     },
     "execution_count": 26,
     "metadata": {},
     "output_type": "execute_result"
    }
   ],
   "source": [
    "# mean on a column\n",
    "salaries_df['salary'].mean()"
   ]
  },
  {
   "cell_type": "code",
   "execution_count": 27,
   "id": "based-rolling",
   "metadata": {},
   "outputs": [
    {
     "data": {
      "text/plain": [
       "62736.0"
      ]
     },
     "execution_count": 27,
     "metadata": {},
     "output_type": "execute_result"
    }
   ],
   "source": [
    "# median\n",
    "salaries_df['salary'].median()"
   ]
  },
  {
   "cell_type": "code",
   "execution_count": 28,
   "id": "engaging-morgan",
   "metadata": {},
   "outputs": [
    {
     "data": {
      "text/plain": [
       "113229"
      ]
     },
     "execution_count": 28,
     "metadata": {},
     "output_type": "execute_result"
    }
   ],
   "source": [
    "# max\n",
    "salaries_df['salary'].max()"
   ]
  },
  {
   "cell_type": "code",
   "execution_count": 29,
   "id": "characteristic-bankruptcy",
   "metadata": {},
   "outputs": [
    {
     "data": {
      "text/plain": [
       "39507"
      ]
     },
     "execution_count": 29,
     "metadata": {},
     "output_type": "execute_result"
    }
   ],
   "source": [
    "# min\n",
    "salaries_df['salary'].min()"
   ]
  },
  {
   "cell_type": "code",
   "execution_count": 30,
   "id": "sustainable-republican",
   "metadata": {},
   "outputs": [
    {
     "data": {
      "text/plain": [
       "101"
      ]
     },
     "execution_count": 30,
     "metadata": {},
     "output_type": "execute_result"
    }
   ],
   "source": [
    "# number of unique values\n",
    "salaries_df['first_name'].nunique()"
   ]
  },
  {
   "cell_type": "code",
   "execution_count": 31,
   "id": "assured-motion",
   "metadata": {},
   "outputs": [
    {
     "data": {
      "text/plain": [
       "Alejandro    27\n",
       "Sumant       18\n",
       "Reuven       17\n",
       "Eberhardt    17\n",
       "Kwee         17\n",
       "             ..\n",
       "Georgis       1\n",
       "Parviz        1\n",
       "Shir          1\n",
       "Guoxiang      1\n",
       "Perla         1\n",
       "Name: first_name, Length: 101, dtype: int64"
      ]
     },
     "execution_count": 31,
     "metadata": {},
     "output_type": "execute_result"
    }
   ],
   "source": [
    "# Value counts\n",
    "salaries_df['first_name'].value_counts()"
   ]
  },
  {
   "cell_type": "markdown",
   "id": "stylish-hormone",
   "metadata": {},
   "source": [
    "### summary"
   ]
  },
  {
   "cell_type": "code",
   "execution_count": 32,
   "id": "fatal-custom",
   "metadata": {},
   "outputs": [
    {
     "data": {
      "text/html": [
       "<div>\n",
       "<style scoped>\n",
       "    .dataframe tbody tr th:only-of-type {\n",
       "        vertical-align: middle;\n",
       "    }\n",
       "\n",
       "    .dataframe tbody tr th {\n",
       "        vertical-align: top;\n",
       "    }\n",
       "\n",
       "    .dataframe thead th {\n",
       "        text-align: right;\n",
       "    }\n",
       "</style>\n",
       "<table border=\"1\" class=\"dataframe\">\n",
       "  <thead>\n",
       "    <tr style=\"text-align: right;\">\n",
       "      <th></th>\n",
       "      <th>emp_no</th>\n",
       "      <th>salary</th>\n",
       "      <th>salary_in_mxn</th>\n",
       "    </tr>\n",
       "  </thead>\n",
       "  <tbody>\n",
       "    <tr>\n",
       "      <th>count</th>\n",
       "      <td>1000.000000</td>\n",
       "      <td>1000.000000</td>\n",
       "      <td>1.000000e+03</td>\n",
       "    </tr>\n",
       "    <tr>\n",
       "      <th>mean</th>\n",
       "      <td>10051.120000</td>\n",
       "      <td>64419.765000</td>\n",
       "      <td>1.294837e+06</td>\n",
       "    </tr>\n",
       "    <tr>\n",
       "      <th>std</th>\n",
       "      <td>28.938781</td>\n",
       "      <td>15766.059353</td>\n",
       "      <td>3.168978e+05</td>\n",
       "    </tr>\n",
       "    <tr>\n",
       "      <th>min</th>\n",
       "      <td>10001.000000</td>\n",
       "      <td>39507.000000</td>\n",
       "      <td>7.940907e+05</td>\n",
       "    </tr>\n",
       "    <tr>\n",
       "      <th>25%</th>\n",
       "      <td>10028.000000</td>\n",
       "      <td>52144.500000</td>\n",
       "      <td>1.048104e+06</td>\n",
       "    </tr>\n",
       "    <tr>\n",
       "      <th>50%</th>\n",
       "      <td>10052.000000</td>\n",
       "      <td>62736.000000</td>\n",
       "      <td>1.260994e+06</td>\n",
       "    </tr>\n",
       "    <tr>\n",
       "      <th>75%</th>\n",
       "      <td>10075.000000</td>\n",
       "      <td>74991.250000</td>\n",
       "      <td>1.507324e+06</td>\n",
       "    </tr>\n",
       "    <tr>\n",
       "      <th>max</th>\n",
       "      <td>10101.000000</td>\n",
       "      <td>113229.000000</td>\n",
       "      <td>2.275903e+06</td>\n",
       "    </tr>\n",
       "  </tbody>\n",
       "</table>\n",
       "</div>"
      ],
      "text/plain": [
       "             emp_no         salary  salary_in_mxn\n",
       "count   1000.000000    1000.000000   1.000000e+03\n",
       "mean   10051.120000   64419.765000   1.294837e+06\n",
       "std       28.938781   15766.059353   3.168978e+05\n",
       "min    10001.000000   39507.000000   7.940907e+05\n",
       "25%    10028.000000   52144.500000   1.048104e+06\n",
       "50%    10052.000000   62736.000000   1.260994e+06\n",
       "75%    10075.000000   74991.250000   1.507324e+06\n",
       "max    10101.000000  113229.000000   2.275903e+06"
      ]
     },
     "execution_count": 32,
     "metadata": {},
     "output_type": "execute_result"
    }
   ],
   "source": [
    "salaries_df.describe()"
   ]
  },
  {
   "cell_type": "markdown",
   "id": "personal-aaron",
   "metadata": {},
   "source": [
    "---\n",
    "---"
   ]
  },
  {
   "cell_type": "code",
   "execution_count": 36,
   "id": "classified-lender",
   "metadata": {},
   "outputs": [],
   "source": [
    "import seaborn as sns"
   ]
  },
  {
   "cell_type": "code",
   "execution_count": 37,
   "id": "wrong-optimum",
   "metadata": {},
   "outputs": [
    {
     "data": {
      "text/plain": [
       "<AxesSubplot:>"
      ]
     },
     "execution_count": 37,
     "metadata": {},
     "output_type": "execute_result"
    },
    {
     "data": {
      "image/png": "[encoded data removed]",
      "text/plain": [
       "<Figure size 432x288 with 1 Axes>"
      ]
     },
     "metadata": {
      "needs_background": "light"
     },
     "output_type": "display_data"
    }
   ],
   "source": [
    "salaries_df['salary'].hist()"
   ]
  },
  {
   "cell_type": "code",
   "execution_count": 38,
   "id": "fatal-convention",
   "metadata": {},
   "outputs": [
    {
     "data": {
      "text/plain": [
       "<AxesSubplot:>"
      ]
     },
     "execution_count": 38,
     "metadata": {},
     "output_type": "execute_result"
    },
    {
     "data": {
      "image/png": "[encoded data removed]",
      "text/plain": [
       "<Figure size 432x288 with 1 Axes>"
      ]
     },
     "metadata": {
      "needs_background": "light"
     },
     "output_type": "display_data"
    }
   ],
   "source": [
    "salaries_df['gender'].hist()"
   ]
  },
  {
   "cell_type": "code",
   "execution_count": 39,
   "id": "going-announcement",
   "metadata": {},
   "outputs": [
    {
     "name": "stderr",
     "output_type": "stream",
     "text": [
      "/opt/conda/lib/python3.9/site-packages/seaborn/distributions.py:2619: FutureWarning: `distplot` is a deprecated function and will be removed in a future version. Please adapt your code to use either `displot` (a figure-level function with similar flexibility) or `histplot` (an axes-level function for histograms).\n",
      "  warnings.warn(msg, FutureWarning)\n"
     ]
    },
    {
     "data": {
      "image/png": "[encoded data removed]",
      "text/plain": [
       "<Figure size 432x288 with 1 Axes>"
      ]
     },
     "metadata": {
      "needs_background": "light"
     },
     "output_type": "display_data"
    }
   ],
   "source": [
    "ax = sns.distplot(salaries_df['salary'])"
   ]
  },
  {
   "cell_type": "markdown",
   "id": "engaging-florist",
   "metadata": {},
   "source": [
    "## Pivot table\n",
    "Reshapes a DataFrame organized by given index / column values."
   ]
  },
  {
   "cell_type": "markdown",
   "id": "broad-donor",
   "metadata": {},
   "source": [
    "- EXAMPLE: Get salaries by employee (`emp_no` and `first_name`) with year as column"
   ]
  },
  {
   "cell_type": "markdown",
   "id": "tired-sacramento",
   "metadata": {},
   "source": [
    "First we do a new columns for year, using `dt.year`"
   ]
  },
  {
   "cell_type": "code",
   "execution_count": 32,
   "id": "technological-problem",
   "metadata": {},
   "outputs": [
    {
     "data": {
      "text/html": [
       "<div>\n",
       "<style scoped>\n",
       "    .dataframe tbody tr th:only-of-type {\n",
       "        vertical-align: middle;\n",
       "    }\n",
       "\n",
       "    .dataframe tbody tr th {\n",
       "        vertical-align: top;\n",
       "    }\n",
       "\n",
       "    .dataframe thead th {\n",
       "        text-align: right;\n",
       "    }\n",
       "</style>\n",
       "<table border=\"1\" class=\"dataframe\">\n",
       "  <thead>\n",
       "    <tr style=\"text-align: right;\">\n",
       "      <th></th>\n",
       "      <th>from_year</th>\n",
       "      <th>1985</th>\n",
       "      <th>1986</th>\n",
       "      <th>1987</th>\n",
       "      <th>1988</th>\n",
       "      <th>1989</th>\n",
       "      <th>1990</th>\n",
       "      <th>1991</th>\n",
       "      <th>1992</th>\n",
       "      <th>1993</th>\n",
       "      <th>1994</th>\n",
       "      <th>1995</th>\n",
       "      <th>1996</th>\n",
       "      <th>1997</th>\n",
       "      <th>1998</th>\n",
       "      <th>1999</th>\n",
       "      <th>2000</th>\n",
       "      <th>2001</th>\n",
       "      <th>2002</th>\n",
       "    </tr>\n",
       "    <tr>\n",
       "      <th>emp_no</th>\n",
       "      <th>first_name</th>\n",
       "      <th></th>\n",
       "      <th></th>\n",
       "      <th></th>\n",
       "      <th></th>\n",
       "      <th></th>\n",
       "      <th></th>\n",
       "      <th></th>\n",
       "      <th></th>\n",
       "      <th></th>\n",
       "      <th></th>\n",
       "      <th></th>\n",
       "      <th></th>\n",
       "      <th></th>\n",
       "      <th></th>\n",
       "      <th></th>\n",
       "      <th></th>\n",
       "      <th></th>\n",
       "      <th></th>\n",
       "    </tr>\n",
       "  </thead>\n",
       "  <tbody>\n",
       "    <tr>\n",
       "      <th>10001</th>\n",
       "      <th>Georgi</th>\n",
       "      <td></td>\n",
       "      <td>60117.0</td>\n",
       "      <td>62102.0</td>\n",
       "      <td>66074.0</td>\n",
       "      <td>66596.0</td>\n",
       "      <td>66961.0</td>\n",
       "      <td>71046.0</td>\n",
       "      <td>74333.0</td>\n",
       "      <td>75286.0</td>\n",
       "      <td>75994.0</td>\n",
       "      <td>76884.0</td>\n",
       "      <td>80013.0</td>\n",
       "      <td>81025.0</td>\n",
       "      <td>81097.0</td>\n",
       "      <td>84917.0</td>\n",
       "      <td>85112.0</td>\n",
       "      <td>85097.0</td>\n",
       "      <td>88958.0</td>\n",
       "    </tr>\n",
       "    <tr>\n",
       "      <th>10002</th>\n",
       "      <th>Bezalel</th>\n",
       "      <td></td>\n",
       "      <td></td>\n",
       "      <td></td>\n",
       "      <td></td>\n",
       "      <td></td>\n",
       "      <td></td>\n",
       "      <td></td>\n",
       "      <td></td>\n",
       "      <td></td>\n",
       "      <td></td>\n",
       "      <td></td>\n",
       "      <td>65828.0</td>\n",
       "      <td>65909.0</td>\n",
       "      <td>67534.0</td>\n",
       "      <td>69366.0</td>\n",
       "      <td>71963.0</td>\n",
       "      <td>72527.0</td>\n",
       "      <td></td>\n",
       "    </tr>\n",
       "    <tr>\n",
       "      <th>10003</th>\n",
       "      <th>Parto</th>\n",
       "      <td></td>\n",
       "      <td></td>\n",
       "      <td></td>\n",
       "      <td></td>\n",
       "      <td></td>\n",
       "      <td></td>\n",
       "      <td></td>\n",
       "      <td></td>\n",
       "      <td></td>\n",
       "      <td></td>\n",
       "      <td>40006.0</td>\n",
       "      <td>43616.0</td>\n",
       "      <td>43466.0</td>\n",
       "      <td>43636.0</td>\n",
       "      <td>43478.0</td>\n",
       "      <td>43699.0</td>\n",
       "      <td>43311.0</td>\n",
       "      <td></td>\n",
       "    </tr>\n",
       "    <tr>\n",
       "      <th>10004</th>\n",
       "      <th>Chirstian</th>\n",
       "      <td></td>\n",
       "      <td>40054.0</td>\n",
       "      <td>42283.0</td>\n",
       "      <td>42542.0</td>\n",
       "      <td>46065.0</td>\n",
       "      <td>48271.0</td>\n",
       "      <td>50594.0</td>\n",
       "      <td>52119.0</td>\n",
       "      <td>54693.0</td>\n",
       "      <td>58326.0</td>\n",
       "      <td>60770.0</td>\n",
       "      <td>62566.0</td>\n",
       "      <td>64340.0</td>\n",
       "      <td>67096.0</td>\n",
       "      <td>69722.0</td>\n",
       "      <td>70698.0</td>\n",
       "      <td>74057.0</td>\n",
       "      <td></td>\n",
       "    </tr>\n",
       "    <tr>\n",
       "      <th>10005</th>\n",
       "      <th>Kyoichi</th>\n",
       "      <td></td>\n",
       "      <td></td>\n",
       "      <td></td>\n",
       "      <td></td>\n",
       "      <td>78228.0</td>\n",
       "      <td>82621.0</td>\n",
       "      <td>83735.0</td>\n",
       "      <td>85572.0</td>\n",
       "      <td>85076.0</td>\n",
       "      <td>86050.0</td>\n",
       "      <td>88448.0</td>\n",
       "      <td>88063.0</td>\n",
       "      <td>89724.0</td>\n",
       "      <td>90392.0</td>\n",
       "      <td>90531.0</td>\n",
       "      <td>91453.0</td>\n",
       "      <td>94692.0</td>\n",
       "      <td></td>\n",
       "    </tr>\n",
       "    <tr>\n",
       "      <th>...</th>\n",
       "      <th>...</th>\n",
       "      <td>...</td>\n",
       "      <td>...</td>\n",
       "      <td>...</td>\n",
       "      <td>...</td>\n",
       "      <td>...</td>\n",
       "      <td>...</td>\n",
       "      <td>...</td>\n",
       "      <td>...</td>\n",
       "      <td>...</td>\n",
       "      <td>...</td>\n",
       "      <td>...</td>\n",
       "      <td>...</td>\n",
       "      <td>...</td>\n",
       "      <td>...</td>\n",
       "      <td>...</td>\n",
       "      <td>...</td>\n",
       "      <td>...</td>\n",
       "      <td>...</td>\n",
       "    </tr>\n",
       "    <tr>\n",
       "      <th>10097</th>\n",
       "      <th>Remzi</th>\n",
       "      <td></td>\n",
       "      <td></td>\n",
       "      <td></td>\n",
       "      <td></td>\n",
       "      <td></td>\n",
       "      <td>44886.0</td>\n",
       "      <td>47987.0</td>\n",
       "      <td>50406.0</td>\n",
       "      <td>51981.0</td>\n",
       "      <td>53075.0</td>\n",
       "      <td>53699.0</td>\n",
       "      <td>56903.0</td>\n",
       "      <td>59339.0</td>\n",
       "      <td>62690.0</td>\n",
       "      <td>65841.0</td>\n",
       "      <td>67846.0</td>\n",
       "      <td>70161.0</td>\n",
       "      <td></td>\n",
       "    </tr>\n",
       "    <tr>\n",
       "      <th>10098</th>\n",
       "      <th>Sreekrishna</th>\n",
       "      <td>40000.0</td>\n",
       "      <td>41426.0</td>\n",
       "      <td>45147.0</td>\n",
       "      <td>48625.0</td>\n",
       "      <td>49228.0</td>\n",
       "      <td>51404.0</td>\n",
       "      <td>53646.0</td>\n",
       "      <td>56202.0</td>\n",
       "      <td></td>\n",
       "      <td></td>\n",
       "      <td></td>\n",
       "      <td></td>\n",
       "      <td></td>\n",
       "      <td></td>\n",
       "      <td></td>\n",
       "      <td></td>\n",
       "      <td></td>\n",
       "      <td></td>\n",
       "    </tr>\n",
       "    <tr>\n",
       "      <th>10099</th>\n",
       "      <th>Valter</th>\n",
       "      <td></td>\n",
       "      <td></td>\n",
       "      <td></td>\n",
       "      <td>68781.0</td>\n",
       "      <td>70711.0</td>\n",
       "      <td>75094.0</td>\n",
       "      <td>78490.0</td>\n",
       "      <td>81154.0</td>\n",
       "      <td>81480.0</td>\n",
       "      <td>85032.0</td>\n",
       "      <td>84698.0</td>\n",
       "      <td>86038.0</td>\n",
       "      <td>86212.0</td>\n",
       "      <td>89257.0</td>\n",
       "      <td>93297.0</td>\n",
       "      <td>95842.0</td>\n",
       "      <td>98538.0</td>\n",
       "      <td></td>\n",
       "    </tr>\n",
       "    <tr>\n",
       "      <th>10100</th>\n",
       "      <th>Hironobu</th>\n",
       "      <td></td>\n",
       "      <td></td>\n",
       "      <td>54398.0</td>\n",
       "      <td>55586.0</td>\n",
       "      <td>57195.0</td>\n",
       "      <td>58209.0</td>\n",
       "      <td>57770.0</td>\n",
       "      <td>59188.0</td>\n",
       "      <td>60763.0</td>\n",
       "      <td>64797.0</td>\n",
       "      <td>68037.0</td>\n",
       "      <td>69404.0</td>\n",
       "      <td>70575.0</td>\n",
       "      <td>70464.0</td>\n",
       "      <td>72343.0</td>\n",
       "      <td>74365.0</td>\n",
       "      <td>74957.0</td>\n",
       "      <td></td>\n",
       "    </tr>\n",
       "    <tr>\n",
       "      <th>10101</th>\n",
       "      <th>Perla</th>\n",
       "      <td></td>\n",
       "      <td></td>\n",
       "      <td></td>\n",
       "      <td></td>\n",
       "      <td></td>\n",
       "      <td></td>\n",
       "      <td></td>\n",
       "      <td></td>\n",
       "      <td></td>\n",
       "      <td></td>\n",
       "      <td></td>\n",
       "      <td></td>\n",
       "      <td></td>\n",
       "      <td>66591.0</td>\n",
       "      <td></td>\n",
       "      <td></td>\n",
       "      <td></td>\n",
       "      <td></td>\n",
       "    </tr>\n",
       "  </tbody>\n",
       "</table>\n",
       "<p>101 rows × 18 columns</p>\n",
       "</div>"
      ],
      "text/plain": [
       "from_year              1985     1986     1987     1988     1989     1990  \\\n",
       "emp_no first_name                                                          \n",
       "10001  Georgi                60117.0  62102.0  66074.0  66596.0  66961.0   \n",
       "10002  Bezalel                                                             \n",
       "10003  Parto                                                               \n",
       "10004  Chirstian             40054.0  42283.0  42542.0  46065.0  48271.0   \n",
       "10005  Kyoichi                                          78228.0  82621.0   \n",
       "...                     ...      ...      ...      ...      ...      ...   \n",
       "10097  Remzi                                                     44886.0   \n",
       "10098  Sreekrishna  40000.0  41426.0  45147.0  48625.0  49228.0  51404.0   \n",
       "10099  Valter                                  68781.0  70711.0  75094.0   \n",
       "10100  Hironobu                       54398.0  55586.0  57195.0  58209.0   \n",
       "10101  Perla                                                               \n",
       "\n",
       "from_year              1991     1992     1993     1994     1995     1996  \\\n",
       "emp_no first_name                                                          \n",
       "10001  Georgi       71046.0  74333.0  75286.0  75994.0  76884.0  80013.0   \n",
       "10002  Bezalel                                                   65828.0   \n",
       "10003  Parto                                            40006.0  43616.0   \n",
       "10004  Chirstian    50594.0  52119.0  54693.0  58326.0  60770.0  62566.0   \n",
       "10005  Kyoichi      83735.0  85572.0  85076.0  86050.0  88448.0  88063.0   \n",
       "...                     ...      ...      ...      ...      ...      ...   \n",
       "10097  Remzi        47987.0  50406.0  51981.0  53075.0  53699.0  56903.0   \n",
       "10098  Sreekrishna  53646.0  56202.0                                       \n",
       "10099  Valter       78490.0  81154.0  81480.0  85032.0  84698.0  86038.0   \n",
       "10100  Hironobu     57770.0  59188.0  60763.0  64797.0  68037.0  69404.0   \n",
       "10101  Perla                                                               \n",
       "\n",
       "from_year              1997     1998     1999     2000     2001     2002  \n",
       "emp_no first_name                                                         \n",
       "10001  Georgi       81025.0  81097.0  84917.0  85112.0  85097.0  88958.0  \n",
       "10002  Bezalel      65909.0  67534.0  69366.0  71963.0  72527.0           \n",
       "10003  Parto        43466.0  43636.0  43478.0  43699.0  43311.0           \n",
       "10004  Chirstian    64340.0  67096.0  69722.0  70698.0  74057.0           \n",
       "10005  Kyoichi      89724.0  90392.0  90531.0  91453.0  94692.0           \n",
       "...                     ...      ...      ...      ...      ...      ...  \n",
       "10097  Remzi        59339.0  62690.0  65841.0  67846.0  70161.0           \n",
       "10098  Sreekrishna                                                        \n",
       "10099  Valter       86212.0  89257.0  93297.0  95842.0  98538.0           \n",
       "10100  Hironobu     70575.0  70464.0  72343.0  74365.0  74957.0           \n",
       "10101  Perla                 66591.0                                      \n",
       "\n",
       "[101 rows x 18 columns]"
      ]
     },
     "execution_count": 32,
     "metadata": {},
     "output_type": "execute_result"
    }
   ],
   "source": [
    "salaries_df['from_year'] = salaries_df['from_date'].dt.year\n",
    "pd.pivot_table(salaries_df, values='salary', index=['emp_no', 'first_name'],\n",
    "                    columns=['from_year']).fillna('')"
   ]
  },
  {
   "cell_type": "code",
   "execution_count": null,
   "id": "ca6a36c5-ac74-4a07-b660-0db05523ae74",
   "metadata": {},
   "outputs": [],
   "source": []
  }
 ],
 "metadata": {
  "kernelspec": {
   "display_name": "Python 3 (ipykernel)",
   "language": "python",
   "name": "python3"
  },
  "language_info": {
   "codemirror_mode": {
    "name": "ipython",
    "version": 3
   },
   "file_extension": ".py",
   "mimetype": "text/x-python",
   "name": "python",
   "nbconvert_exporter": "python",
   "pygments_lexer": "ipython3",
   "version": "3.9.7"
  }
 },
 "nbformat": 4,
 "nbformat_minor": 5
}
