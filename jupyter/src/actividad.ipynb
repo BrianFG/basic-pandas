{
 "cells": [
  {
   "cell_type": "markdown",
   "id": "closed-solomon",
   "metadata": {},
   "source": [
    "## Actividad\n",
    "\n",
    "## Pandas\n",
    "\n"
   ]
  },
  {
   "cell_type": "markdown",
   "id": "appointed-shakespeare",
   "metadata": {},
   "source": [
    "Importa el modulo pandas"
   ]
  },
  {
   "cell_type": "code",
   "execution_count": null,
   "id": "perfect-pressing",
   "metadata": {},
   "outputs": [],
   "source": []
  },
  {
   "cell_type": "markdown",
   "id": "forty-population",
   "metadata": {},
   "source": [
    "1. Lee el archivo `zillow_data.csv` y asignalo a una variable"
   ]
  },
  {
   "cell_type": "code",
   "execution_count": 3,
   "id": "continuous-rogers",
   "metadata": {},
   "outputs": [],
   "source": [
    "... = ..."
   ]
  },
  {
   "cell_type": "markdown",
   "id": "burning-mailing",
   "metadata": {},
   "source": [
    "2. Muestra las primeras 5 lineas"
   ]
  },
  {
   "cell_type": "code",
   "execution_count": null,
   "id": "cdadcdff-edfd-4739-8cd8-1c4e8c9fbe9c",
   "metadata": {},
   "outputs": [],
   "source": []
  },
  {
   "cell_type": "markdown",
   "id": "numerous-worse",
   "metadata": {},
   "source": [
    "3. Muestra las ultimas 4 lineas"
   ]
  },
  {
   "cell_type": "code",
   "execution_count": null,
   "id": "silver-prompt",
   "metadata": {},
   "outputs": [],
   "source": []
  },
  {
   "cell_type": "markdown",
   "id": "physical-pioneer",
   "metadata": {},
   "source": [
    "4. Selecciona la columna `BEDROOMS` "
   ]
  },
  {
   "cell_type": "code",
   "execution_count": null,
   "id": "hungry-lawyer",
   "metadata": {},
   "outputs": [],
   "source": []
  },
  {
   "cell_type": "markdown",
   "id": "criminal-cricket",
   "metadata": {},
   "source": [
    "5. Selecciona la columna `ZIPCODE` "
   ]
  },
  {
   "cell_type": "code",
   "execution_count": null,
   "id": "entire-tutorial",
   "metadata": {},
   "outputs": [],
   "source": []
  },
  {
   "cell_type": "markdown",
   "id": "synthetic-basis",
   "metadata": {},
   "source": [
    "6. Selecciona la columnas `ADDRESS` y `PRICE`"
   ]
  },
  {
   "cell_type": "code",
   "execution_count": null,
   "id": "liable-separate",
   "metadata": {},
   "outputs": [],
   "source": []
  },
  {
   "cell_type": "markdown",
   "id": "colored-disabled",
   "metadata": {},
   "source": [
    "7. Obten los tipos de datos del DataFrame"
   ]
  },
  {
   "cell_type": "code",
   "execution_count": null,
   "id": "posted-december",
   "metadata": {},
   "outputs": [],
   "source": []
  },
  {
   "cell_type": "markdown",
   "id": "headed-juvenile",
   "metadata": {},
   "source": [
    "---\n",
    "---"
   ]
  },
  {
   "cell_type": "markdown",
   "id": "environmental-arthritis",
   "metadata": {},
   "source": [
    "1. Muestra las columnas del DataFrame"
   ]
  },
  {
   "cell_type": "code",
   "execution_count": null,
   "id": "complicated-affair",
   "metadata": {},
   "outputs": [],
   "source": []
  },
  {
   "cell_type": "markdown",
   "id": "developmental-possession",
   "metadata": {},
   "source": [
    "2. `LIVING AREA` esta en pies cuadrados, convierte a metros. 1 ft^2 = 0.092903 m^2"
   ]
  },
  {
   "cell_type": "code",
   "execution_count": null,
   "id": "geological-trail",
   "metadata": {},
   "outputs": [],
   "source": []
  },
  {
   "cell_type": "markdown",
   "id": "surrounded-recognition",
   "metadata": {},
   "source": [
    "3. Asigna el resultado a la columna `living_area_m2`"
   ]
  },
  {
   "cell_type": "code",
   "execution_count": null,
   "id": "following-pattern",
   "metadata": {},
   "outputs": [],
   "source": []
  },
  {
   "cell_type": "markdown",
   "id": "compound-journal",
   "metadata": {},
   "source": [
    "4. Muestra las lineas con mas de 6 `BEDROOMS`"
   ]
  },
  {
   "cell_type": "code",
   "execution_count": null,
   "id": "bottom-chile",
   "metadata": {},
   "outputs": [],
   "source": []
  },
  {
   "cell_type": "markdown",
   "id": "packed-chosen",
   "metadata": {},
   "source": [
    "5. Selecciona las lineas con `ZIPCODE` igual a `98036`"
   ]
  },
  {
   "cell_type": "code",
   "execution_count": null,
   "id": "modular-synthesis",
   "metadata": {},
   "outputs": [],
   "source": []
  },
  {
   "cell_type": "markdown",
   "id": "unexpected-jimmy",
   "metadata": {},
   "source": [
    "---\n",
    "---"
   ]
  },
  {
   "cell_type": "markdown",
   "id": "inner-cause",
   "metadata": {},
   "source": [
    "1. Obten el promedio, mediana, maximo y minimo de la columna `PRICE`"
   ]
  },
  {
   "cell_type": "code",
   "execution_count": null,
   "id": "portable-engine",
   "metadata": {},
   "outputs": [],
   "source": []
  },
  {
   "cell_type": "markdown",
   "id": "color-ceiling",
   "metadata": {},
   "source": [
    "2. Obten el numero de ZIPCODEs unicos"
   ]
  },
  {
   "cell_type": "code",
   "execution_count": null,
   "id": "diverse-george",
   "metadata": {},
   "outputs": [],
   "source": []
  },
  {
   "cell_type": "markdown",
   "id": "heavy-disorder",
   "metadata": {},
   "source": [
    "3. Cuantas lineas tiene cada `CITY`?"
   ]
  },
  {
   "cell_type": "code",
   "execution_count": null,
   "id": "hollow-formation",
   "metadata": {},
   "outputs": [],
   "source": []
  }
 ],
 "metadata": {
  "kernelspec": {
   "display_name": "Python 3 (ipykernel)",
   "language": "python",
   "name": "python3"
  },
  "language_info": {
   "codemirror_mode": {
    "name": "ipython",
    "version": 3
   },
   "file_extension": ".py",
   "mimetype": "text/x-python",
   "name": "python",
   "nbconvert_exporter": "python",
   "pygments_lexer": "ipython3",
   "version": "3.9.7"
  }
 },
 "nbformat": 4,
 "nbformat_minor": 5
}
