{
 "cells": [
  {
   "cell_type": "markdown",
   "id": "compound-austin",
   "metadata": {},
   "source": [
    "# Python Basico"
   ]
  },
  {
   "cell_type": "markdown",
   "id": "american-ottawa",
   "metadata": {},
   "source": [
    "### Identifiers"
   ]
  },
  {
   "cell_type": "code",
   "execution_count": 22,
   "id": "protective-reducing",
   "metadata": {},
   "outputs": [],
   "source": [
    "# Solo letras, digitos y guion bajo\n",
    "# Solo puede iniciar con letra o guion bajo\n",
    "variable1 = 1\n",
    "_var = 42"
   ]
  },
  {
   "cell_type": "markdown",
   "id": "sound-majority",
   "metadata": {},
   "source": [
    "### Variables"
   ]
  },
  {
   "cell_type": "code",
   "execution_count": 1,
   "id": "included-wallet",
   "metadata": {},
   "outputs": [],
   "source": [
    "an_int_variable = 42\n",
    "a_string_variable = \"Hello python\"\n",
    "a_boolean_variable = True\n",
    "a_list_variable = [1, 2, 3]"
   ]
  },
  {
   "cell_type": "markdown",
   "id": "minute-taste",
   "metadata": {},
   "source": [
    "### Identacion"
   ]
  },
  {
   "cell_type": "code",
   "execution_count": 2,
   "id": "missing-cisco",
   "metadata": {},
   "outputs": [
    {
     "name": "stdout",
     "output_type": "stream",
     "text": [
      "5\n",
      "7\n",
      "9\n"
     ]
    }
   ],
   "source": [
    "for x in a_list_variable:\n",
    "    y = 2*x + 3\n",
    "    print(y)"
   ]
  },
  {
   "cell_type": "markdown",
   "id": "literary-replacement",
   "metadata": {},
   "source": [
    "## Tipos"
   ]
  },
  {
   "cell_type": "code",
   "execution_count": 3,
   "id": "becoming-characterization",
   "metadata": {},
   "outputs": [
    {
     "data": {
      "text/plain": [
       "0"
      ]
     },
     "execution_count": 3,
     "metadata": {},
     "output_type": "execute_result"
    }
   ],
   "source": [
    "# int\n",
    "# Numero entero \n",
    "42\n",
    "-0"
   ]
  },
  {
   "cell_type": "code",
   "execution_count": 27,
   "id": "immune-stand",
   "metadata": {},
   "outputs": [
    {
     "data": {
      "text/plain": [
       "3.14159"
      ]
     },
     "execution_count": 27,
     "metadata": {},
     "output_type": "execute_result"
    }
   ],
   "source": [
    "# float\n",
    "# Numero flotante \n",
    "-0.7\n",
    "3.14159"
   ]
  },
  {
   "cell_type": "code",
   "execution_count": 4,
   "id": "subsequent-convert",
   "metadata": {},
   "outputs": [
    {
     "data": {
      "text/plain": [
       "False"
      ]
     },
     "execution_count": 4,
     "metadata": {},
     "output_type": "execute_result"
    }
   ],
   "source": [
    "# bool\n",
    "# Bolean. True / False \n",
    "True \n",
    "False"
   ]
  },
  {
   "cell_type": "code",
   "execution_count": 5,
   "id": "chinese-consultancy",
   "metadata": {},
   "outputs": [
    {
     "data": {
      "text/plain": [
       "'Secuencia'"
      ]
     },
     "execution_count": 5,
     "metadata": {},
     "output_type": "execute_result"
    }
   ],
   "source": [
    "# str\n",
    "# String, secuencia de caracteres\n",
    "\"Secuencia\""
   ]
  },
  {
   "cell_type": "code",
   "execution_count": 6,
   "id": "boring-journalist",
   "metadata": {},
   "outputs": [
    {
     "data": {
      "text/plain": [
       "[2, 4, 4, 8, 8, 10]"
      ]
     },
     "execution_count": 6,
     "metadata": {},
     "output_type": "execute_result"
    }
   ],
   "source": [
    "# list\n",
    "# Lista de valores\n",
    "[2, 4, 4, 8, 8, 10]"
   ]
  },
  {
   "cell_type": "code",
   "execution_count": 31,
   "id": "continent-catering",
   "metadata": {},
   "outputs": [
    {
     "data": {
      "text/plain": [
       "('a', 'b', 'c', 'd')"
      ]
     },
     "execution_count": 31,
     "metadata": {},
     "output_type": "execute_result"
    }
   ],
   "source": [
    "# tuple\n",
    "# Lista inmutable\n",
    "(\"a\", \"b\", \"c\", \"d\")"
   ]
  },
  {
   "cell_type": "code",
   "execution_count": 32,
   "id": "close-trust",
   "metadata": {},
   "outputs": [
    {
     "data": {
      "text/plain": [
       "{1, 2, 3}"
      ]
     },
     "execution_count": 32,
     "metadata": {},
     "output_type": "execute_result"
    }
   ],
   "source": [
    "# set\n",
    "# Lista con valores unicos\n",
    "{2, 4, 10}\n",
    "{1, 1, 2, 3}"
   ]
  },
  {
   "cell_type": "code",
   "execution_count": 7,
   "id": "encouraging-scanning",
   "metadata": {},
   "outputs": [
    {
     "data": {
      "text/plain": [
       "{'one': 1, 'two': 2}"
      ]
     },
     "execution_count": 7,
     "metadata": {},
     "output_type": "execute_result"
    }
   ],
   "source": [
    "# dict\n",
    "# Pares de Llave: Valor\n",
    "{\"one\": 1, \"two\": 2}"
   ]
  },
  {
   "cell_type": "markdown",
   "id": "center-hacker",
   "metadata": {},
   "source": [
    "---"
   ]
  },
  {
   "cell_type": "markdown",
   "id": "experienced-engagement",
   "metadata": {},
   "source": [
    "## Operaraciones"
   ]
  },
  {
   "cell_type": "code",
   "execution_count": 45,
   "id": "public-affiliation",
   "metadata": {},
   "outputs": [
    {
     "data": {
      "text/plain": [
       "9"
      ]
     },
     "execution_count": 45,
     "metadata": {},
     "output_type": "execute_result"
    }
   ],
   "source": [
    "# () Parentesis\n",
    "(1 + 2) * 3 "
   ]
  },
  {
   "cell_type": "code",
   "execution_count": 46,
   "id": "official-closure",
   "metadata": {},
   "outputs": [
    {
     "data": {
      "text/plain": [
       "32"
      ]
     },
     "execution_count": 46,
     "metadata": {},
     "output_type": "execute_result"
    }
   ],
   "source": [
    "# ** Operador de potencia\n",
    "2**5 "
   ]
  },
  {
   "cell_type": "code",
   "execution_count": 49,
   "id": "funny-reconstruction",
   "metadata": {},
   "outputs": [
    {
     "data": {
      "text/plain": [
       "20"
      ]
     },
     "execution_count": 49,
     "metadata": {},
     "output_type": "execute_result"
    }
   ],
   "source": [
    "# * Multiplicador\n",
    "2 * 10"
   ]
  },
  {
   "cell_type": "code",
   "execution_count": 50,
   "id": "surprised-begin",
   "metadata": {},
   "outputs": [
    {
     "data": {
      "text/plain": [
       "2.5"
      ]
     },
     "execution_count": 50,
     "metadata": {},
     "output_type": "execute_result"
    }
   ],
   "source": [
    "# / Division\n",
    "5 / 2"
   ]
  },
  {
   "cell_type": "code",
   "execution_count": 51,
   "id": "alleged-analysis",
   "metadata": {},
   "outputs": [
    {
     "data": {
      "text/plain": [
       "2"
      ]
     },
     "execution_count": 51,
     "metadata": {},
     "output_type": "execute_result"
    }
   ],
   "source": [
    "# // Floor division\n",
    "5 // 2"
   ]
  },
  {
   "cell_type": "code",
   "execution_count": 52,
   "id": "abandoned-necessity",
   "metadata": {},
   "outputs": [
    {
     "data": {
      "text/plain": [
       "1"
      ]
     },
     "execution_count": 52,
     "metadata": {},
     "output_type": "execute_result"
    }
   ],
   "source": [
    "# % Modulo / Residuo\n",
    "5 % 2"
   ]
  },
  {
   "cell_type": "code",
   "execution_count": 53,
   "id": "delayed-numbers",
   "metadata": {},
   "outputs": [
    {
     "data": {
      "text/plain": [
       "42"
      ]
     },
     "execution_count": 53,
     "metadata": {},
     "output_type": "execute_result"
    }
   ],
   "source": [
    "# + Suma\n",
    "37 + 5"
   ]
  },
  {
   "cell_type": "code",
   "execution_count": 54,
   "id": "greater-evidence",
   "metadata": {},
   "outputs": [
    {
     "data": {
      "text/plain": [
       "32"
      ]
     },
     "execution_count": 54,
     "metadata": {},
     "output_type": "execute_result"
    }
   ],
   "source": [
    "# -  Resta\n",
    "37 - 5"
   ]
  },
  {
   "cell_type": "code",
   "execution_count": 55,
   "id": "blocked-young",
   "metadata": {},
   "outputs": [
    {
     "data": {
      "text/plain": [
       "True"
      ]
     },
     "execution_count": 55,
     "metadata": {},
     "output_type": "execute_result"
    }
   ],
   "source": [
    "# <, <=, >, >=, ==, !=.  Comparadores. Regresa bool\n",
    "5 > 3\n",
    "\"a\" == \"a\""
   ]
  },
  {
   "cell_type": "code",
   "execution_count": 56,
   "id": "appreciated-belize",
   "metadata": {},
   "outputs": [
    {
     "data": {
      "text/plain": [
       "False"
      ]
     },
     "execution_count": 56,
     "metadata": {},
     "output_type": "execute_result"
    }
   ],
   "source": [
    "# and, or, not. Operadores logicos\n",
    "not (10 > 5) and (\"b\" == \"a\")"
   ]
  },
  {
   "cell_type": "markdown",
   "id": "textile-wyoming",
   "metadata": {},
   "source": [
    "----"
   ]
  },
  {
   "cell_type": "markdown",
   "id": "french-applicant",
   "metadata": {},
   "source": [
    "## Control de Flujo"
   ]
  },
  {
   "cell_type": "markdown",
   "id": "dramatic-seven",
   "metadata": {},
   "source": [
    "### If - else - elif"
   ]
  },
  {
   "cell_type": "code",
   "execution_count": 8,
   "id": "adjacent-maker",
   "metadata": {},
   "outputs": [
    {
     "name": "stdout",
     "output_type": "stream",
     "text": [
      "a is equal to b\n"
     ]
    }
   ],
   "source": [
    "a = 50\n",
    "b = 50\n",
    "if a < b:\n",
    "    print(\"b is greater than a\")\n",
    "elif a > b:\n",
    "    print(\"a is greater than b\")\n",
    "else:\n",
    "    print(\"a is equal to b\")"
   ]
  },
  {
   "cell_type": "markdown",
   "id": "integral-signal",
   "metadata": {},
   "source": [
    "### Ciclo while"
   ]
  },
  {
   "cell_type": "code",
   "execution_count": 9,
   "id": "nuclear-nightmare",
   "metadata": {},
   "outputs": [
    {
     "name": "stdout",
     "output_type": "stream",
     "text": [
      "5\n",
      "4\n",
      "3\n",
      "2\n",
      "1\n"
     ]
    }
   ],
   "source": [
    "a = 5\n",
    "while a > 0:\n",
    "    print(a)\n",
    "    a = a - 1"
   ]
  },
  {
   "cell_type": "markdown",
   "id": "vertical-fiction",
   "metadata": {},
   "source": [
    "### Ciclo for"
   ]
  },
  {
   "cell_type": "code",
   "execution_count": 10,
   "id": "broadband-consensus",
   "metadata": {},
   "outputs": [
    {
     "name": "stdout",
     "output_type": "stream",
     "text": [
      "2\n",
      "5\n",
      "8\n"
     ]
    }
   ],
   "source": [
    "for x in range(2,10,3):\n",
    "    print(x)"
   ]
  },
  {
   "cell_type": "markdown",
   "id": "original-optimum",
   "metadata": {},
   "source": [
    "----"
   ]
  },
  {
   "cell_type": "markdown",
   "id": "female-irrigation",
   "metadata": {},
   "source": [
    "### List Comprehension"
   ]
  },
  {
   "cell_type": "code",
   "execution_count": 11,
   "id": "processed-story",
   "metadata": {},
   "outputs": [
    {
     "data": {
      "text/plain": [
       "[2, 4, 6, 8, 10]"
      ]
     },
     "execution_count": 11,
     "metadata": {},
     "output_type": "execute_result"
    }
   ],
   "source": [
    "a_list = [1, 2, 3, 4, 5]\n",
    "double_list = [x*2 for x in a_list]\n",
    "double_list"
   ]
  },
  {
   "cell_type": "markdown",
   "id": "political-telescope",
   "metadata": {},
   "source": [
    "## Dict Comprehension"
   ]
  },
  {
   "cell_type": "code",
   "execution_count": 12,
   "id": "every-springfield",
   "metadata": {},
   "outputs": [
    {
     "data": {
      "text/plain": [
       "{'one squared': 1, 'two squared': 4, 'three squared': 9}"
      ]
     },
     "execution_count": 12,
     "metadata": {},
     "output_type": "execute_result"
    }
   ],
   "source": [
    "a_dict = {\"one\": 1, \"two\": 2, \"three\": 3}\n",
    "squared = {f\"{k} squared\": v*v for k, v in a_dict.items() }\n",
    "squared"
   ]
  },
  {
   "cell_type": "markdown",
   "id": "conceptual-employee",
   "metadata": {},
   "source": [
    "### Slicing"
   ]
  },
  {
   "cell_type": "code",
   "execution_count": 13,
   "id": "british-importance",
   "metadata": {},
   "outputs": [
    {
     "data": {
      "text/plain": [
       "[1, 3, 5]"
      ]
     },
     "execution_count": 13,
     "metadata": {},
     "output_type": "execute_result"
    }
   ],
   "source": [
    "a_list[:2]\n",
    "a_list[1:2]\n",
    "a_list[0::2]"
   ]
  },
  {
   "cell_type": "markdown",
   "id": "straight-watershed",
   "metadata": {},
   "source": [
    "---"
   ]
  },
  {
   "cell_type": "markdown",
   "id": "mental-fault",
   "metadata": {},
   "source": [
    "## Funciones"
   ]
  },
  {
   "cell_type": "markdown",
   "id": "indie-stake",
   "metadata": {},
   "source": [
    "Funcionpara calcular el volumen de una esfera"
   ]
  },
  {
   "cell_type": "markdown",
   "id": "southeast-oxygen",
   "metadata": {},
   "source": [
    "$$ V = \\frac{{4\\pi r^3 }}{3} $$"
   ]
  },
  {
   "cell_type": "code",
   "execution_count": 14,
   "id": "informative-waste",
   "metadata": {},
   "outputs": [],
   "source": [
    "def sphere_volume(radius):\n",
    "    pi = 3.14159\n",
    "    result = (4 * pi * radius**3) / 3\n",
    "    return result"
   ]
  },
  {
   "cell_type": "code",
   "execution_count": 15,
   "id": "unnecessary-catholic",
   "metadata": {},
   "outputs": [
    {
     "data": {
      "text/plain": [
       "113.09724"
      ]
     },
     "execution_count": 15,
     "metadata": {},
     "output_type": "execute_result"
    }
   ],
   "source": [
    "sphere_volume(3)"
   ]
  },
  {
   "cell_type": "markdown",
   "id": "existing-protest",
   "metadata": {},
   "source": [
    "Funcion para sumar elementos de una lista"
   ]
  },
  {
   "cell_type": "code",
   "execution_count": 16,
   "id": "hollywood-growing",
   "metadata": {},
   "outputs": [],
   "source": [
    "def sum_list(num_list):\n",
    "    result = 0\n",
    "    for x in num_list:\n",
    "        result += x\n",
    "    return result"
   ]
  },
  {
   "cell_type": "code",
   "execution_count": 17,
   "id": "shaped-revelation",
   "metadata": {},
   "outputs": [
    {
     "data": {
      "text/plain": [
       "0"
      ]
     },
     "execution_count": 17,
     "metadata": {},
     "output_type": "execute_result"
    }
   ],
   "source": [
    "sum_list([1,2,3,-6])"
   ]
  },
  {
   "cell_type": "code",
   "execution_count": null,
   "id": "unnecessary-roller",
   "metadata": {},
   "outputs": [],
   "source": []
  }
 ],
 "metadata": {
  "kernelspec": {
   "display_name": "Python 3 (ipykernel)",
   "language": "python",
   "name": "python3"
  },
  "language_info": {
   "codemirror_mode": {
    "name": "ipython",
    "version": 3
   },
   "file_extension": ".py",
   "mimetype": "text/x-python",
   "name": "python",
   "nbconvert_exporter": "python",
   "pygments_lexer": "ipython3",
   "version": "3.9.7"
  }
 },
 "nbformat": 4,
 "nbformat_minor": 5
}
