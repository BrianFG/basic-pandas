{
 "cells": [
  {
   "cell_type": "markdown",
   "id": "ce0ceb38-c7db-4c4a-a7d9-6641b513406a",
   "metadata": {},
   "source": [
    "# PEP 8\n",
    "\n",
    "El PEP 8 existe para mejorar la lectura de codigo y que sea mas amigable para un tercero que quiera incrementar su funcionalidad"
   ]
  },
  {
   "cell_type": "markdown",
   "id": "10090a00-3693-4923-8f78-baecca30c73e",
   "metadata": {},
   "source": [
    "### Nombra tus variables, funciones, clases con algo logico \n",
    "No importa que sea mas larga, es mejor ser explicito"
   ]
  },
  {
   "cell_type": "markdown",
   "id": "f62b1b20-7f1b-431a-80e7-2b48dfadedcf",
   "metadata": {},
   "source": [
    "## Funciones\n",
    "\n",
    "El nombre de las funciones se separa con guin bajo"
   ]
  },
  {
   "cell_type": "code",
   "execution_count": 16,
   "id": "88e701e6-057e-438a-b2f6-3fbe329e0f05",
   "metadata": {},
   "outputs": [],
   "source": [
    "def function():\n",
    "    pass"
   ]
  },
  {
   "cell_type": "code",
   "execution_count": 17,
   "id": "01f372d0-0cfb-4057-ba3d-d07bcf3ac7c3",
   "metadata": {},
   "outputs": [],
   "source": [
    "def una_funcion():\n",
    "    pass"
   ]
  },
  {
   "cell_type": "markdown",
   "id": "d57c813f-bd04-4209-84e6-6ae25733e7fc",
   "metadata": {},
   "source": [
    "## Variable\n",
    "\n",
    "Las variables de la misma forma que las funciones"
   ]
  },
  {
   "cell_type": "code",
   "execution_count": 18,
   "id": "3e486c36-9941-4b83-9561-d397f6ce2b06",
   "metadata": {},
   "outputs": [],
   "source": [
    "x = 1\n",
    "variable = \"2\"\n",
    "mi_variable = False"
   ]
  },
  {
   "cell_type": "markdown",
   "id": "6723d433-2168-4858-8601-dca6f593d31e",
   "metadata": {},
   "source": [
    "## Clases\n",
    "\n",
    "Las clases se nombran capitalizando las iniciales"
   ]
  },
  {
   "cell_type": "code",
   "execution_count": 19,
   "id": "af77d888-c62d-4a05-a38a-428d245f8cb2",
   "metadata": {},
   "outputs": [],
   "source": [
    "class UnaClase:\n",
    "    pass"
   ]
  },
  {
   "cell_type": "code",
   "execution_count": 20,
   "id": "d7192cb8-cfa7-43f3-95c1-27db0141b573",
   "metadata": {},
   "outputs": [],
   "source": [
    "class Auto:\n",
    "    pass"
   ]
  },
  {
   "cell_type": "code",
   "execution_count": 21,
   "id": "d6bc73eb-bd22-4bde-860f-0b54c2812756",
   "metadata": {},
   "outputs": [],
   "source": [
    "class UnaClaseConNombreLargo:\n",
    "    pass"
   ]
  },
  {
   "cell_type": "markdown",
   "id": "a70d7d8c-dc35-4242-adb2-d1de665eb3f0",
   "metadata": {},
   "source": [
    "Los metodos de clase se nombran igual que una fincion"
   ]
  },
  {
   "cell_type": "code",
   "execution_count": 22,
   "id": "46c99a3c-27ec-4e1c-be1c-4498c2aa3636",
   "metadata": {},
   "outputs": [],
   "source": [
    "class Auto:\n",
    "    \n",
    "    def acelerar():\n",
    "        pass"
   ]
  },
  {
   "cell_type": "markdown",
   "id": "65014973-cdb2-489e-a0c6-7d11da1dd1f3",
   "metadata": {},
   "source": [
    "## Constantes\n",
    "Las constantes van todo en mayusculas y separadas con guin bajo"
   ]
  },
  {
   "cell_type": "code",
   "execution_count": 23,
   "id": "3050c0a1-e4f0-4d74-9c95-21cc34caf01c",
   "metadata": {},
   "outputs": [],
   "source": [
    "UNA_CONSTANTE = 3.14"
   ]
  },
  {
   "cell_type": "code",
   "execution_count": null,
   "id": "0ed2e5e7-58f0-41ab-9f6d-94bca9ba992f",
   "metadata": {},
   "outputs": [],
   "source": []
  },
  {
   "cell_type": "markdown",
   "id": "e8b91ac7-544f-437a-8a31-0e2fcea4d572",
   "metadata": {
    "tags": []
   },
   "source": [
    "---\n",
    "# Lineas en blanco\n",
    "Utiliza las lineas en blanco adecuadamente\n",
    "\n",
    "Entre funciones se utilizan dos espacios"
   ]
  },
  {
   "cell_type": "code",
   "execution_count": null,
   "id": "0da4a0b2-f429-487b-9f10-5abe16431972",
   "metadata": {},
   "outputs": [],
   "source": [
    "def una_funcion():\n",
    "    pass\n",
    "\n",
    "def otra_funcion():\n",
    "    pass"
   ]
  },
  {
   "cell_type": "markdown",
   "id": "9ad69245-1ab3-4e8a-9b83-b91965d92292",
   "metadata": {},
   "source": [
    "Excepto en metodos de clase, donde solo es un espacio"
   ]
  },
  {
   "cell_type": "code",
   "execution_count": 24,
   "id": "f545dad5-9313-4101-aa6c-e949eeefbd73",
   "metadata": {},
   "outputs": [],
   "source": [
    "class Auto:\n",
    "    \n",
    "    def acelerar():\n",
    "        pass\n",
    "    \n",
    "    def frenar():\n",
    "        pass"
   ]
  },
  {
   "cell_type": "markdown",
   "id": "0224bec8-9926-419e-a387-fc971ed9a5cf",
   "metadata": {},
   "source": [
    "Se recomienda separar bloques de codigo y el `return` para hacerlo mas entendible"
   ]
  },
  {
   "cell_type": "code",
   "execution_count": 25,
   "id": "b09a69a2-773f-45e6-b0a6-4dc5897f9c22",
   "metadata": {},
   "outputs": [],
   "source": [
    "def calculate_variance(number_list):\n",
    "    sum_list = 0\n",
    "    for number in number_list:\n",
    "        sum_list = sum_list + number\n",
    "    mean = sum_list / len(number_list)\n",
    "\n",
    "    sum_squares = 0\n",
    "    for number in number_list:\n",
    "        sum_squares = sum_squares + number**2\n",
    "    mean_squares = sum_squares / len(number_list)\n",
    "\n",
    "    return mean_squares - mean**2"
   ]
  },
  {
   "cell_type": "markdown",
   "id": "14ee92b4-22cc-456a-a245-999d6ca8ac3d",
   "metadata": {},
   "source": [
    "---\n",
    "## Formato\n",
    "\n",
    " - El maximo numero de caracteres en una linea para PEP8 es 79\n",
    " - Se utilizan 4 espacios para identar\n",
    "\n",
    "---"
   ]
  },
  {
   "cell_type": "markdown",
   "id": "a598fcf2-9cd6-4455-8b8d-798cd206cb38",
   "metadata": {},
   "source": [
    "### Identacion con quiebres de linea"
   ]
  },
  {
   "cell_type": "code",
   "execution_count": 26,
   "id": "70b090e1-67de-4095-a1cb-6fe94f037c39",
   "metadata": {},
   "outputs": [],
   "source": [
    "def function(arg_one, arg_two,\n",
    "             arg_three, arg_four):\n",
    "    return arg_one"
   ]
  },
  {
   "cell_type": "code",
   "execution_count": 27,
   "id": "e187bf99-2678-425c-a02e-1f41234de145",
   "metadata": {},
   "outputs": [
    {
     "name": "stdout",
     "output_type": "stream",
     "text": [
      "5\n"
     ]
    }
   ],
   "source": [
    "x = 5\n",
    "if (x > 3 and\n",
    "    x < 10):\n",
    "    print(x)"
   ]
  },
  {
   "cell_type": "markdown",
   "id": "8ddec408-7bab-4841-99a4-8bcd38705e92",
   "metadata": {},
   "source": [
    "Donde poner el corchete final?"
   ]
  },
  {
   "cell_type": "code",
   "execution_count": 29,
   "id": "0002efbf-6e2d-449e-b101-3f52b336d4bd",
   "metadata": {},
   "outputs": [],
   "source": [
    "list_of_numbers = [\n",
    "    1, 2, 3,\n",
    "    4, 5, 6,\n",
    "    7, 8, 9\n",
    "]"
   ]
  },
  {
   "cell_type": "code",
   "execution_count": 30,
   "id": "6d79ccb0-03c1-49ee-b506-13b4784d9cd6",
   "metadata": {},
   "outputs": [],
   "source": [
    "list_of_numbers = [\n",
    "    1, 2, 3,\n",
    "    4, 5, 6,\n",
    "    7, 8, 9\n",
    "    ]"
   ]
  },
  {
   "cell_type": "markdown",
   "id": "cc8fce05-be60-413a-9220-0cb09b958410",
   "metadata": {},
   "source": [
    "---\n",
    "## Espacios en blanco\n",
    "\n",
    "Se dejan espacios entre operadores binarios"
   ]
  },
  {
   "cell_type": "code",
   "execution_count": 31,
   "id": "7f0d3b29-6cba-474c-a580-2e46fe5a7adb",
   "metadata": {},
   "outputs": [],
   "source": [
    "y = x**2 + 5\n",
    "z = (x+y) * (x-y)"
   ]
  },
  {
   "cell_type": "code",
   "execution_count": null,
   "id": "3f09d2a4-b987-4b26-aace-917f473343ca",
   "metadata": {},
   "outputs": [],
   "source": [
    "if x>5 and x%2==0:\n",
    "    print('x is larger than 5 and divisible by 2!')"
   ]
  },
  {
   "cell_type": "markdown",
   "id": "1b503b2e-4890-48fb-bbe8-0bc02fbde0f1",
   "metadata": {},
   "source": [
    "En funciones el operador de `=` va junto"
   ]
  },
  {
   "cell_type": "code",
   "execution_count": 32,
   "id": "84b072ec-b7e9-40fd-8c15-fbbd13249c9d",
   "metadata": {},
   "outputs": [],
   "source": [
    "def function(default_parameter=5):\n",
    "    pass"
   ]
  },
  {
   "cell_type": "markdown",
   "id": "374b0865-6720-4106-b071-cdb073831cc9",
   "metadata": {},
   "source": [
    "En slices tambien aplica la regla"
   ]
  },
  {
   "cell_type": "raw",
   "id": "7bb286a5-a37a-4ca9-865c-84aa45b2fd71",
   "metadata": {},
   "source": [
    "lista[x+1 : x+2]\n",
    "list[x+1 : x+2 : x+3]"
   ]
  },
  {
   "cell_type": "code",
   "execution_count": null,
   "id": "fd30d709-c30f-47d9-a2d6-53c675be6e4e",
   "metadata": {},
   "outputs": [],
   "source": []
  },
  {
   "cell_type": "code",
   "execution_count": null,
   "id": "6d37d117-65e1-4560-92ca-1fe9e2b96063",
   "metadata": {},
   "outputs": [],
   "source": []
  },
  {
   "cell_type": "code",
   "execution_count": null,
   "id": "4d0b51f5-f1ca-42bd-89b7-041aaea59cf4",
   "metadata": {},
   "outputs": [],
   "source": []
  }
 ],
 "metadata": {
  "kernelspec": {
   "display_name": "Python 3 (ipykernel)",
   "language": "python",
   "name": "python3"
  },
  "language_info": {
   "codemirror_mode": {
    "name": "ipython",
    "version": 3
   },
   "file_extension": ".py",
   "mimetype": "text/x-python",
   "name": "python",
   "nbconvert_exporter": "python",
   "pygments_lexer": "ipython3",
   "version": "3.9.7"
  }
 },
 "nbformat": 4,
 "nbformat_minor": 5
}
